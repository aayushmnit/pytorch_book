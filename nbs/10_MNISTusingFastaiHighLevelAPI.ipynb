{
 "cells": [
  {
   "cell_type": "markdown",
   "id": "dcf65eee",
   "metadata": {},
   "source": [
    "---\n",
    "title: Modeling pipeline with fastai's High-Level API \n",
    "---"
   ]
  },
  {
   "cell_type": "markdown",
   "id": "f04baa05",
   "metadata": {},
   "source": [
    "This chapter will cover the process of training a model for multi-class classification on MNIST data using the fastai high(application)-level API.  The image below illustrates the general steps involved in using the high-level API: "
   ]
  },
  {
   "cell_type": "markdown",
   "id": "1b8cc7f7",
   "metadata": {},
   "source": [
    "<figure align = \"center\">\n",
    "    <img src=\"./img/fastai_highlevelflow.png\" style=\"width:100%\">\n",
    "    <figcaption align = \"center\">\n",
    "        Fig 10.1: Using fastai high-level API flow.\n",
    "    </figcaption>\n",
    "</figure>"
   ]
  },
  {
   "cell_type": "markdown",
   "id": "46c56843",
   "metadata": {},
   "source": [
    "## Download data"
   ]
  },
  {
   "cell_type": "markdown",
   "id": "834d4162",
   "metadata": {},
   "source": [
    "Download instruction can be found in [`Downloading Data from Kaggle`](8_NeuralNetworks.ipynb#downloading-data-from-kaggle) section of Modeling pipeline with Neural Networks chapter."
   ]
  },
  {
   "cell_type": "markdown",
   "id": "f9cc078f",
   "metadata": {},
   "source": [
    "## Creating DataLoaders"
   ]
  },
  {
   "cell_type": "markdown",
   "id": "dd26f39e",
   "metadata": {
    "ExecuteTime": {
     "end_time": "2023-04-23T19:29:26.490525Z",
     "start_time": "2023-04-23T19:29:26.487426Z"
    }
   },
   "source": [
    " First step in the process is creating a fastai `Dataloaders`. To begin, we will import the `fastai.vision` module, as we are working with image classification tasks in this case."
   ]
  },
  {
   "cell_type": "code",
   "execution_count": 1,
   "id": "652710b9",
   "metadata": {
    "ExecuteTime": {
     "end_time": "2023-04-25T05:56:20.100230Z",
     "start_time": "2023-04-25T05:56:17.913655Z"
    }
   },
   "outputs": [],
   "source": [
    "from fastai.vision.all import *\n",
    "import warnings\n",
    "warnings.filterwarnings('ignore')"
   ]
  },
  {
   "cell_type": "markdown",
   "id": "ec8692ec",
   "metadata": {},
   "source": [
    ":::{.callout-important collapse=false}\n",
    "It is generally not recommended to use `import *` in production scenarios. Instead, it is advisable to use precise imports. For instance, the function `ImageDataLoaders` is located in the [`fastai.vision`](https://github.com/fastai/fastai/blob/master/fastai/vision/data.py#L108) module, specifically in the `data.py` file. Therefore, the recommended import statement would be:\n",
    "```python\n",
    "from fastai.vision.data import ImageDataLoaders\n",
    "```\n",
    "\n",
    "This approach ensures that only the required function is imported, which is considered a good coding practice in production environments.\n",
    "\n",
    "For simplicity, we will stick with `import *` notion. \n",
    ":::"
   ]
  },
  {
   "cell_type": "markdown",
   "id": "3d0b37f1",
   "metadata": {},
   "source": [
    "Next, we will create our `fastai` `dataloaders` object."
   ]
  },
  {
   "cell_type": "markdown",
   "id": "80b55048",
   "metadata": {},
   "source": [
    ":::{.callout-note collapse=false}\n",
    "It's important to note that `fastai` `DataLoaders` are not identical to PyTorch `dataloaders`. In `fastai`, many of the PyTorch classes are inherited and additional functionalities are added through a technique called [\"monkey-patching\"](https://en.wikipedia.org/wiki/Monkey_patch#:~:text=Monkey%20patching%20is%20a%20technique,Python%2C%20Groovy%2C%20etc.). This means that `fastai` extends the functionality of PyTorch classes by adding custom features and methods, providing a higher-level and more user-friendly API for deep learning tasks.\n",
    ":::"
   ]
  },
  {
   "cell_type": "code",
   "execution_count": 2,
   "id": "d411dd27",
   "metadata": {
    "ExecuteTime": {
     "end_time": "2023-04-25T05:56:24.330559Z",
     "start_time": "2023-04-25T05:56:20.276953Z"
    }
   },
   "outputs": [
    {
     "name": "stdout",
     "output_type": "stream",
     "text": [
      "<class 'fastai.data.core.DataLoaders'>\n"
     ]
    }
   ],
   "source": [
    "dPath = Path(\"../data/mnist_png/\")\n",
    "dls = ImageDataLoaders.from_folder(\n",
    "        path = dPath, \n",
    "        train = \"training\", \n",
    "        valid_pct = 0.2,\n",
    "        seed=42,\n",
    "        img_cls = PILImageBW,\n",
    "        item_tfms=Resize(28),\n",
    "        batch_tfms=None,\n",
    "        bs=128\n",
    "    )\n",
    "print(type(dls))"
   ]
  },
  {
   "cell_type": "markdown",
   "id": "f42afaf0",
   "metadata": {
    "ExecuteTime": {
     "end_time": "2023-04-23T19:49:40.088741Z",
     "start_time": "2023-04-23T19:49:40.085552Z"
    }
   },
   "source": [
    "As evident from the code snippet above, it is possible to create a `fastai` `DataLoaders` in just one line of code. Let's delve into the details of what's happening with this function. The code above is creating a `fastai` `DataLoaders` object named `dls` using the `from_folder` method of `ImageDataLoaders` class. Here's a breakdown of the parameters being passed:\n",
    "\n",
    "- `path`: The path to the dataset folder is specified as `dPath`, which uses the `fastai` `Path` function. It's important to note that the `Path` function in `fastai` is a monkey-patched version of the standard [`pathlib.Path`](https://docs.python.org/3/library/pathlib.html) function in Python. \n",
    "- `train`: The name of the subfolder within the dataset folder that contains the training data, specified as \"training\".\n",
    "- `valid_pct`: The validation data percentage is set to 0.2 (20%), which means that the data will be randomly split into training and validation sets. Specifically, 80% of the data will be used for training, while 20% will be used for validation.\n",
    "- `seed`: The random seed used for reproducibility, specified as 42.\n",
    "- `img_cls`: The image class to be used is specified as [`PILImageBW`]((https://docs.fast.ai/vision.core.html#pilimagebw)), as the MNIST images are black and white single-channel images. `PILImageBW` is one of the general data types available in the [`vision.core`](https://docs.fast.ai/vision.core.html) module of the `fastai` library.\n",
    "- `item_tfms`: The image transformation to be applied to each item, specified as Resize(28) which resizes the images to a size of 28x28 pixels. This operation is performed on CPU.\n",
    "- `batch_tfms`: The batch transformations to be applied, specified as None which means no batch transformations are applied.  `batch_tfms` is usually transforms performed on GPU.\n",
    "- `bs`: The batch size, specified as 128.\n",
    "\n",
    "Finally, the `type(dls)` statement is used to print the type of the dls object, which should be a `fastai` `DataLoaders` object. "
   ]
  },
  {
   "cell_type": "markdown",
   "id": "25c08c1d",
   "metadata": {},
   "source": [
    "`fastai` offers various functions for easy inspection of data through data loaders. Let's use the `show_batch` function to visualize one batch of the data."
   ]
  },
  {
   "cell_type": "code",
   "execution_count": 3,
   "id": "994d4460",
   "metadata": {
    "ExecuteTime": {
     "end_time": "2023-04-25T05:56:27.734504Z",
     "start_time": "2023-04-25T05:56:26.317160Z"
    }
   },
   "outputs": [
    {
     "data": {
      "image/png": "[encoded data removed]",
      "text/plain": [
       "<Figure size 1000x600 with 9 Axes>"
      ]
     },
     "metadata": {},
     "output_type": "display_data"
    }
   ],
   "source": [
    "dls.show_batch(figsize=(10,6)) "
   ]
  },
  {
   "cell_type": "markdown",
   "id": "c0fb1678",
   "metadata": {},
   "source": [
    "It appears that we have successfully created a data loader with just one line of code. To better inspect the data, we can check the dimensions of a batch of data. Let's use the `one_batch` function on the `dls` data loader object to obtain a single batch of data."
   ]
  },
  {
   "cell_type": "code",
   "execution_count": 4,
   "id": "97357a2e",
   "metadata": {
    "ExecuteTime": {
     "end_time": "2023-04-25T05:56:30.093412Z",
     "start_time": "2023-04-25T05:56:28.953898Z"
    }
   },
   "outputs": [
    {
     "name": "stdout",
     "output_type": "stream",
     "text": [
      "Shape of X:torch.Size([128, 1, 28, 28]) \n",
      "Shape of Labels:torch.Size([128])\n"
     ]
    }
   ],
   "source": [
    "x,y = dls.one_batch()\n",
    "print(f'Shape of X:{x.shape} \\nShape of Labels:{y.shape}')"
   ]
  },
  {
   "cell_type": "markdown",
   "id": "18e47f11",
   "metadata": {},
   "source": [
    "Upon inspection, we can observe that the input image batch has the following dimensions:\n",
    "\n",
    "- Batch size: 128\n",
    "- Number of channels: 1 (single channel)\n",
    "- Image height: 28\n",
    "- Image width: 28\n",
    "\n",
    "Additionally, the labels are represented as a vector of size 128, with one label per image."
   ]
  },
  {
   "cell_type": "markdown",
   "id": "1b36e64c",
   "metadata": {},
   "source": [
    "## Creating a learner"
   ]
  },
  {
   "cell_type": "markdown",
   "id": "3dd6bd86",
   "metadata": {
    "ExecuteTime": {
     "end_time": "2023-04-23T20:35:06.960781Z",
     "start_time": "2023-04-23T20:35:06.946108Z"
    }
   },
   "source": [
    "The next step involves creating a `fastai` [`Learner`](https://docs.fast.ai/learner.html#learner) object using the [`vision_learner`](https://docs.fast.ai/vision.learner.html) method."
   ]
  },
  {
   "cell_type": "code",
   "execution_count": 5,
   "id": "a9aadcd0",
   "metadata": {
    "ExecuteTime": {
     "end_time": "2023-04-25T05:56:31.826967Z",
     "start_time": "2023-04-25T05:56:31.709234Z"
    }
   },
   "outputs": [
    {
     "name": "stdout",
     "output_type": "stream",
     "text": [
      "<class 'fastai.learner.Learner'>\n"
     ]
    }
   ],
   "source": [
    "learn = vision_learner(\n",
    "    dls=dls,  \n",
    "    arch= resnet18, \n",
    "    pretrained=False, \n",
    "    metrics=accuracy, \n",
    "    n_in=1\n",
    ")\n",
    "print(type(learn))"
   ]
  },
  {
   "cell_type": "markdown",
   "id": "56331a59",
   "metadata": {},
   "source": [
    "As evident from the code snippet above, it is possible to create a `fastai` `Learner` in just one line of code.  Let's delve into the details of what's happening with this function. The code above is creating a fastai `Learner` object for training a model on the MNIST dataset. Here's what each parameter in the vision_learner method does:\n",
    "\n",
    " - `dls`: This parameter specifies the data loaders object (dls) that we previously created for the dataset.\n",
    " - `arch`: The `arch` parameter specifies the neural network architecture to be used for training. In this case, we are using [resnet18](https://pytorch.org/vision/0.8/models.html) from `torchvision.models`, which is a popular convolutional neural network architecture. `fastai` models are PyTorch models, so they can accept any valid PyTorch model, whether it is custom-defined or sourced from the [`torchvision`](https://pytorch.org/vision/0.8/models.html) model hub or [`timm`](https://huggingface.co/docs/timm/) library, by simply specifying the model name. This allows for flexibility in choosing different neural network architectures for training, depending on the specific requirements of the task at hand.\n",
    " - `pretrained`: This parameter indicates whether to use pre-trained weights for the neural network. In this case, False means that we are not using any pre-trained weights. \n",
    " - `metrics`: This parameter specifies the evaluation metric(s) to be used during training. In this case, [`accuracy`](https://docs.fast.ai/metrics.html#accuracy) is used, which measures the classification accuracy. `fastai` provides other pre-implemented single-label classification metrics that you can use, and you can find them in the [metrics documentation](https://docs.fast.ai/metrics.html#single-label-classification).\n",
    " - `n_in` : This parameter specifies the number of input channels in the images. Since the MNIST images are grayscale with a single channel, n_in is set to 1.\n",
    " \n",
    "The `type(learn)` statement is then used to print the type of the `learn` object, which should be a `fastai` `Learner` object."
   ]
  },
  {
   "cell_type": "markdown",
   "id": "5de6c5f4",
   "metadata": {
    "ExecuteTime": {
     "end_time": "2023-04-23T21:16:57.379490Z",
     "start_time": "2023-04-23T21:16:57.359837Z"
    }
   },
   "source": [
    ":::{.callout-important collapse=false}\n",
    "The [`vision_learner`](https://docs.fast.ai/vision.learner.html#vision_learner) class in `fastai` comes with a lot of \"useful defaults\" that have been derived from training task in hand on various datasets. For instance, it automatically selects the `AdamW` optimizer as the default optimization function, sets the learning rate to `0.001` by default and loss function as [flattened CrossEntropyLoss](https://docs.fast.ai/losses.html#crossentropylossflat). You can refer to the [documentation of vision_learner](https://docs.fast.ai/vision.learner.html#vision_learner) to explore other default settings and configurations that may be useful for your specific task.\n",
    ":::"
   ]
  },
  {
   "cell_type": "code",
   "execution_count": 6,
   "id": "16ef3e90",
   "metadata": {
    "ExecuteTime": {
     "end_time": "2023-04-25T05:56:34.016538Z",
     "start_time": "2023-04-25T05:56:34.013822Z"
    }
   },
   "outputs": [
    {
     "name": "stdout",
     "output_type": "stream",
     "text": [
      "Optimizer function used: <function Adam at 0x7f53ce8a6e50>\n",
      "Default learning rate: 0.001\n",
      "Default loss function: FlattenedLoss of CrossEntropyLoss()\n"
     ]
    }
   ],
   "source": [
    "print(f'Optimizer function used: {learn.opt_func}')\n",
    "print(f'Default learning rate: {learn.lr}')\n",
    "print(f'Default loss function: {learn.loss_func}')"
   ]
  },
  {
   "cell_type": "markdown",
   "id": "0a59711f",
   "metadata": {},
   "source": [
    "`fastai` `Learner` class also comes with a lot of helpful functions. An example would be [`Learner.summary`](https://github.com/fastai/fastai/blob/master/fastai/callback/hook.py#L209) function which prints a summary of the model, optimizer and loss function."
   ]
  },
  {
   "cell_type": "code",
   "execution_count": 7,
   "id": "4a327187",
   "metadata": {
    "ExecuteTime": {
     "end_time": "2023-04-25T05:56:39.149115Z",
     "start_time": "2023-04-25T05:56:35.197853Z"
    }
   },
   "outputs": [
    {
     "data": {
      "text/html": [
       "\n",
       "<style>\n",
       "    /* Turns off some styling */\n",
       "    progress {\n",
       "        /* gets rid of default border in Firefox and Opera. */\n",
       "        border: none;\n",
       "        /* Needs to be in here for Safari polyfill so background images work as expected. */\n",
       "        background-size: auto;\n",
       "    }\n",
       "    progress:not([value]), progress:not([value])::-webkit-progress-bar {\n",
       "        background: repeating-linear-gradient(45deg, #7e7e7e, #7e7e7e 10px, #5c5c5c 10px, #5c5c5c 20px);\n",
       "    }\n",
       "    .progress-bar-interrupted, .progress-bar-interrupted::-webkit-progress-bar {\n",
       "        background: #F44336;\n",
       "    }\n",
       "</style>\n"
      ],
      "text/plain": [
       "<IPython.core.display.HTML object>"
      ]
     },
     "metadata": {},
     "output_type": "display_data"
    },
    {
     "data": {
      "text/html": [],
      "text/plain": [
       "<IPython.core.display.HTML object>"
      ]
     },
     "metadata": {},
     "output_type": "display_data"
    },
    {
     "data": {
      "text/plain": [
       "Sequential (Input shape: 128 x 1 x 28 x 28)\n",
       "============================================================================\n",
       "Layer (type)         Output Shape         Param #    Trainable \n",
       "============================================================================\n",
       "                     128 x 64 x 14 x 14  \n",
       "Conv2d                                    3136       True      \n",
       "BatchNorm2d                               128        True      \n",
       "ReLU                                                           \n",
       "____________________________________________________________________________\n",
       "                     128 x 64 x 7 x 7    \n",
       "MaxPool2d                                                      \n",
       "Conv2d                                    36864      True      \n",
       "BatchNorm2d                               128        True      \n",
       "ReLU                                                           \n",
       "Conv2d                                    36864      True      \n",
       "BatchNorm2d                               128        True      \n",
       "Conv2d                                    36864      True      \n",
       "BatchNorm2d                               128        True      \n",
       "ReLU                                                           \n",
       "Conv2d                                    36864      True      \n",
       "BatchNorm2d                               128        True      \n",
       "____________________________________________________________________________\n",
       "                     128 x 128 x 4 x 4   \n",
       "Conv2d                                    73728      True      \n",
       "BatchNorm2d                               256        True      \n",
       "ReLU                                                           \n",
       "Conv2d                                    147456     True      \n",
       "BatchNorm2d                               256        True      \n",
       "Conv2d                                    8192       True      \n",
       "BatchNorm2d                               256        True      \n",
       "Conv2d                                    147456     True      \n",
       "BatchNorm2d                               256        True      \n",
       "ReLU                                                           \n",
       "Conv2d                                    147456     True      \n",
       "BatchNorm2d                               256        True      \n",
       "____________________________________________________________________________\n",
       "                     128 x 256 x 2 x 2   \n",
       "Conv2d                                    294912     True      \n",
       "BatchNorm2d                               512        True      \n",
       "ReLU                                                           \n",
       "Conv2d                                    589824     True      \n",
       "BatchNorm2d                               512        True      \n",
       "Conv2d                                    32768      True      \n",
       "BatchNorm2d                               512        True      \n",
       "Conv2d                                    589824     True      \n",
       "BatchNorm2d                               512        True      \n",
       "ReLU                                                           \n",
       "Conv2d                                    589824     True      \n",
       "BatchNorm2d                               512        True      \n",
       "____________________________________________________________________________\n",
       "                     128 x 512 x 1 x 1   \n",
       "Conv2d                                    1179648    True      \n",
       "BatchNorm2d                               1024       True      \n",
       "ReLU                                                           \n",
       "Conv2d                                    2359296    True      \n",
       "BatchNorm2d                               1024       True      \n",
       "Conv2d                                    131072     True      \n",
       "BatchNorm2d                               1024       True      \n",
       "Conv2d                                    2359296    True      \n",
       "BatchNorm2d                               1024       True      \n",
       "ReLU                                                           \n",
       "Conv2d                                    2359296    True      \n",
       "BatchNorm2d                               1024       True      \n",
       "AdaptiveAvgPool2d                                              \n",
       "AdaptiveMaxPool2d                                              \n",
       "____________________________________________________________________________\n",
       "                     128 x 1024          \n",
       "Flatten                                                        \n",
       "BatchNorm1d                               2048       True      \n",
       "Dropout                                                        \n",
       "____________________________________________________________________________\n",
       "                     128 x 512           \n",
       "Linear                                    524288     True      \n",
       "ReLU                                                           \n",
       "BatchNorm1d                               1024       True      \n",
       "Dropout                                                        \n",
       "____________________________________________________________________________\n",
       "                     128 x 10            \n",
       "Linear                                    5120       True      \n",
       "____________________________________________________________________________\n",
       "\n",
       "Total params: 11,702,720\n",
       "Total trainable params: 11,702,720\n",
       "Total non-trainable params: 0\n",
       "\n",
       "Optimizer used: <function Adam at 0x7f53ce8a6e50>\n",
       "Loss function: FlattenedLoss of CrossEntropyLoss()\n",
       "\n",
       "Callbacks:\n",
       "  - TrainEvalCallback\n",
       "  - CastToTensor\n",
       "  - Recorder\n",
       "  - ProgressCallback"
      ]
     },
     "execution_count": 7,
     "metadata": {},
     "output_type": "execute_result"
    }
   ],
   "source": [
    "learn.summary()"
   ]
  },
  {
   "cell_type": "markdown",
   "id": "690b32ab",
   "metadata": {},
   "source": [
    "The `Learner.summary` function provides a wealth of useful information, including:\n",
    "\n",
    "- Model layers and their trainable state\n",
    "- Total number of parameters in the model, as well as the number of trainable parameters\n",
    "- The optimizer used during training\n",
    "- The loss function employed\n",
    "- The [callbacks](https://docs.fast.ai/callback.core.html) used, which are special additional functions that run at various stages of training and inference. You can refer to the [documentation on callbacks](https://docs.fast.ai/callback.core.html)\n",
    "to learn more about them."
   ]
  },
  {
   "cell_type": "markdown",
   "id": "4f06af80",
   "metadata": {},
   "source": [
    "## Training the model"
   ]
  },
  {
   "cell_type": "markdown",
   "id": "ef0f5643",
   "metadata": {
    "ExecuteTime": {
     "end_time": "2023-04-23T21:52:26.285373Z",
     "start_time": "2023-04-23T21:52:26.269150Z"
    }
   },
   "source": [
    "`fastai` provides different `fit` functions in the `Learner` class that allow for flexible and convenient training of machine learning models. Here's an overview of some of the commonly used `fit` functions in Fastai:\n",
    "\n",
    "1. [`fit`](https://docs.fast.ai/learner.html#learner.fit): This is the most commonly used `fit` function in `fastai`, which trains the model using stochastic gradient descent (SGD) or its variants. It allows you to specify the number of epochs, learning rate, weight decay, and other training parameters. You can also specify callbacks for custom behavior during training.\n",
    "\n",
    "2. [`fit_one_cycle`](https://docs.fast.ai/callback.schedule.html#learner.fit_one_cycle): This function implements the 1-cycle policy, a popular learning rate scheduling technique in deep learning. It automatically sets the learning rate, momentum, and weight decay to optimal values based on a predefined schedule. This can help improve the model's performance and speed up training.\n",
    "\n",
    "3. [`fit_sgdr`](https://docs.fast.ai/callback.schedule.html#learner.fit_sgdr): This function implements stochastic gradient descent with restarts (SGDR), a learning rate scheduling technique that periodically resets the learning rate to a smaller value during training. This helps the model escape from local minima and find better solutions.\n",
    "\n",
    "4. [`fit_flat_cos`](https://docs.fast.ai/callback.schedule.html#learner.fit_flat_cos): This function uses a cosine annealing learning rate schedule, where the learning rate is decreased gradually over time following a cosine curve. This helps the model converge to a better solution by avoiding overshooting.\n",
    "\n",
    "5. [`fine_tune`](https://docs.fast.ai/callback.schedule.html#learner.fine_tune): This function fine-tunes a pre-trained model by training only the last few layers while keeping the earlier layers frozen. This is useful for transfer learning, where you start with a pre-trained model and then fine-tune it on your specific task with limited data.\n",
    "\n",
    "These are some of the different `fit` functions available in `fastai`'s `Learner` class, providing flexibility and convenience for training machine learning models with various techniques and strategies."
   ]
  },
  {
   "cell_type": "markdown",
   "id": "789b91ab",
   "metadata": {},
   "source": [
    "We will use `fit_one_cycle` function for our training example and train for five epochs. "
   ]
  },
  {
   "cell_type": "code",
   "execution_count": 8,
   "id": "fbdd15bd",
   "metadata": {
    "ExecuteTime": {
     "end_time": "2023-04-25T06:00:41.215640Z",
     "start_time": "2023-04-25T05:56:42.981424Z"
    }
   },
   "outputs": [
    {
     "data": {
      "text/html": [
       "\n",
       "<style>\n",
       "    /* Turns off some styling */\n",
       "    progress {\n",
       "        /* gets rid of default border in Firefox and Opera. */\n",
       "        border: none;\n",
       "        /* Needs to be in here for Safari polyfill so background images work as expected. */\n",
       "        background-size: auto;\n",
       "    }\n",
       "    progress:not([value]), progress:not([value])::-webkit-progress-bar {\n",
       "        background: repeating-linear-gradient(45deg, #7e7e7e, #7e7e7e 10px, #5c5c5c 10px, #5c5c5c 20px);\n",
       "    }\n",
       "    .progress-bar-interrupted, .progress-bar-interrupted::-webkit-progress-bar {\n",
       "        background: #F44336;\n",
       "    }\n",
       "</style>\n"
      ],
      "text/plain": [
       "<IPython.core.display.HTML object>"
      ]
     },
     "metadata": {},
     "output_type": "display_data"
    },
    {
     "data": {
      "text/html": [
       "<table border=\"1\" class=\"dataframe\">\n",
       "  <thead>\n",
       "    <tr style=\"text-align: left;\">\n",
       "      <th>epoch</th>\n",
       "      <th>train_loss</th>\n",
       "      <th>valid_loss</th>\n",
       "      <th>accuracy</th>\n",
       "      <th>time</th>\n",
       "    </tr>\n",
       "  </thead>\n",
       "  <tbody>\n",
       "    <tr>\n",
       "      <td>0</td>\n",
       "      <td>0.174721</td>\n",
       "      <td>0.149860</td>\n",
       "      <td>0.958000</td>\n",
       "      <td>00:48</td>\n",
       "    </tr>\n",
       "    <tr>\n",
       "      <td>1</td>\n",
       "      <td>0.097696</td>\n",
       "      <td>0.082462</td>\n",
       "      <td>0.976143</td>\n",
       "      <td>00:46</td>\n",
       "    </tr>\n",
       "    <tr>\n",
       "      <td>2</td>\n",
       "      <td>0.062112</td>\n",
       "      <td>0.063939</td>\n",
       "      <td>0.982357</td>\n",
       "      <td>00:47</td>\n",
       "    </tr>\n",
       "    <tr>\n",
       "      <td>3</td>\n",
       "      <td>0.029472</td>\n",
       "      <td>0.030471</td>\n",
       "      <td>0.990286</td>\n",
       "      <td>00:47</td>\n",
       "    </tr>\n",
       "    <tr>\n",
       "      <td>4</td>\n",
       "      <td>0.012919</td>\n",
       "      <td>0.026187</td>\n",
       "      <td>0.992857</td>\n",
       "      <td>00:47</td>\n",
       "    </tr>\n",
       "  </tbody>\n",
       "</table>"
      ],
      "text/plain": [
       "<IPython.core.display.HTML object>"
      ]
     },
     "metadata": {},
     "output_type": "display_data"
    }
   ],
   "source": [
    "learn.fit_one_cycle(5)"
   ]
  },
  {
   "cell_type": "markdown",
   "id": "c372b01a",
   "metadata": {},
   "source": [
    "As we can see above, the `fit_one_cycle` function in `fastai` provides a progress bar(while training, not shown above) and displays statistics in a neat table after every epoch, which includes:\n",
    "\n",
    "- Train and validation loss\n",
    "- The defined metric, in this case `accuracy` on the validation set \n",
    "- Time taken to run that particular epoch"
   ]
  },
  {
   "cell_type": "markdown",
   "id": "9ed74ff6",
   "metadata": {},
   "source": [
    "## Analyzing Model Performance"
   ]
  },
  {
   "cell_type": "markdown",
   "id": "4494cfb6",
   "metadata": {},
   "source": [
    "After training our model, we achieved an impressive accuracy rate of over 99% on the MNIST testing dataset. Additionally, `fastai` provides convenient functions such as `ClassificationInterpretation`, which allows us to easily plot losses and generate a confusion matrix for further model evaluation and analysis. These tools are useful in gaining insights into the performance of our trained model and making informed decisions for model refinement and improvement."
   ]
  },
  {
   "cell_type": "markdown",
   "id": "2811a818",
   "metadata": {},
   "source": [
    "First we will initiate `ClassificationInterpretation` object from our model."
   ]
  },
  {
   "cell_type": "code",
   "execution_count": 9,
   "id": "4fdc1c2a",
   "metadata": {
    "ExecuteTime": {
     "end_time": "2023-04-25T06:00:50.759111Z",
     "start_time": "2023-04-25T06:00:41.268009Z"
    }
   },
   "outputs": [
    {
     "data": {
      "text/html": [
       "\n",
       "<style>\n",
       "    /* Turns off some styling */\n",
       "    progress {\n",
       "        /* gets rid of default border in Firefox and Opera. */\n",
       "        border: none;\n",
       "        /* Needs to be in here for Safari polyfill so background images work as expected. */\n",
       "        background-size: auto;\n",
       "    }\n",
       "    progress:not([value]), progress:not([value])::-webkit-progress-bar {\n",
       "        background: repeating-linear-gradient(45deg, #7e7e7e, #7e7e7e 10px, #5c5c5c 10px, #5c5c5c 20px);\n",
       "    }\n",
       "    .progress-bar-interrupted, .progress-bar-interrupted::-webkit-progress-bar {\n",
       "        background: #F44336;\n",
       "    }\n",
       "</style>\n"
      ],
      "text/plain": [
       "<IPython.core.display.HTML object>"
      ]
     },
     "metadata": {},
     "output_type": "display_data"
    },
    {
     "data": {
      "text/html": [],
      "text/plain": [
       "<IPython.core.display.HTML object>"
      ]
     },
     "metadata": {},
     "output_type": "display_data"
    }
   ],
   "source": [
    "interp = ClassificationInterpretation.from_learner(learn)"
   ]
  },
  {
   "cell_type": "markdown",
   "id": "635bded1",
   "metadata": {},
   "source": [
    "We can now visualize our top losses, which are examples where our model was highly confident in its prediction but got it wrong. By examining these cases, we can identify potential issues with the data labeling process or areas where our model struggles in accurately identifying the class of the image. Here in `plot_top_losses` we have passed two arguments: \n",
    "\n",
    "- Number of images to be displayed\n",
    "- Figure size"
   ]
  },
  {
   "cell_type": "code",
   "execution_count": 10,
   "id": "d4746731",
   "metadata": {
    "ExecuteTime": {
     "end_time": "2023-04-25T06:00:51.479472Z",
     "start_time": "2023-04-25T06:00:50.817161Z"
    }
   },
   "outputs": [
    {
     "data": {
      "text/html": [
       "\n",
       "<style>\n",
       "    /* Turns off some styling */\n",
       "    progress {\n",
       "        /* gets rid of default border in Firefox and Opera. */\n",
       "        border: none;\n",
       "        /* Needs to be in here for Safari polyfill so background images work as expected. */\n",
       "        background-size: auto;\n",
       "    }\n",
       "    progress:not([value]), progress:not([value])::-webkit-progress-bar {\n",
       "        background: repeating-linear-gradient(45deg, #7e7e7e, #7e7e7e 10px, #5c5c5c 10px, #5c5c5c 20px);\n",
       "    }\n",
       "    .progress-bar-interrupted, .progress-bar-interrupted::-webkit-progress-bar {\n",
       "        background: #F44336;\n",
       "    }\n",
       "</style>\n"
      ],
      "text/plain": [
       "<IPython.core.display.HTML object>"
      ]
     },
     "metadata": {},
     "output_type": "display_data"
    },
    {
     "data": {
      "text/html": [],
      "text/plain": [
       "<IPython.core.display.HTML object>"
      ]
     },
     "metadata": {},
     "output_type": "display_data"
    },
    {
     "data": {
      "image/png": "[encoded data removed]",
      "text/plain": [
       "<Figure size 1000x600 with 9 Axes>"
      ]
     },
     "metadata": {},
     "output_type": "display_data"
    }
   ],
   "source": [
    "interp.plot_top_losses(9, figsize=(10,6))"
   ]
  },
  {
   "cell_type": "markdown",
   "id": "e6b678c0",
   "metadata": {},
   "source": [
    "From the above example, we can observe that our model occasionally confuses between:\n",
    "\n",
    "- Digits 1, 2, and 7\n",
    "- Digits 0, 5, and 8\n",
    "\n",
    "This is not uncommon, as these digits bear a close resemblance to each other. It is important to note that such misclassifications are not necessarily indicative of a problem with our model, but rather a reflection of the inherent similarities between these digits."
   ]
  },
  {
   "cell_type": "markdown",
   "id": "c3ab3e56",
   "metadata": {
    "ExecuteTime": {
     "end_time": "2023-04-25T05:41:32.388789Z",
     "start_time": "2023-04-25T05:41:32.385137Z"
    }
   },
   "source": [
    "We can also generate a visualization of the confusion matrix using the `plot_confusion_matrix` function. This allows us to gain further insights into the performance of our model by visually representing the misclassifications and the true positive rates for each class."
   ]
  },
  {
   "cell_type": "code",
   "execution_count": 11,
   "id": "8f41baec",
   "metadata": {
    "ExecuteTime": {
     "end_time": "2023-04-25T06:01:02.099582Z",
     "start_time": "2023-04-25T06:00:51.530403Z"
    }
   },
   "outputs": [
    {
     "data": {
      "text/html": [
       "\n",
       "<style>\n",
       "    /* Turns off some styling */\n",
       "    progress {\n",
       "        /* gets rid of default border in Firefox and Opera. */\n",
       "        border: none;\n",
       "        /* Needs to be in here for Safari polyfill so background images work as expected. */\n",
       "        background-size: auto;\n",
       "    }\n",
       "    progress:not([value]), progress:not([value])::-webkit-progress-bar {\n",
       "        background: repeating-linear-gradient(45deg, #7e7e7e, #7e7e7e 10px, #5c5c5c 10px, #5c5c5c 20px);\n",
       "    }\n",
       "    .progress-bar-interrupted, .progress-bar-interrupted::-webkit-progress-bar {\n",
       "        background: #F44336;\n",
       "    }\n",
       "</style>\n"
      ],
      "text/plain": [
       "<IPython.core.display.HTML object>"
      ]
     },
     "metadata": {},
     "output_type": "display_data"
    },
    {
     "data": {
      "text/html": [],
      "text/plain": [
       "<IPython.core.display.HTML object>"
      ]
     },
     "metadata": {},
     "output_type": "display_data"
    },
    {
     "data": {
      "image/png": "[encoded data removed]",
      "text/plain": [
       "<Figure size 1200x1200 with 1 Axes>"
      ]
     },
     "metadata": {},
     "output_type": "display_data"
    }
   ],
   "source": [
    "interp.plot_confusion_matrix(figsize=(12,12))"
   ]
  },
  {
   "cell_type": "markdown",
   "id": "b4706a70",
   "metadata": {},
   "source": [
    "## Saving and Loading the model"
   ]
  },
  {
   "cell_type": "markdown",
   "id": "3dae669f",
   "metadata": {},
   "source": [
    "We can save the model weights, optimizer state and `DataLoaders` transform by using `export` function. "
   ]
  },
  {
   "cell_type": "markdown",
   "id": "bc9b1323",
   "metadata": {},
   "source": [
    ":::{.callout-note}\n",
    "We will explore additional techniques for extracting model weights beyond what has been covered so far in later chapters.\n",
    ":::"
   ]
  },
  {
   "cell_type": "code",
   "execution_count": 22,
   "id": "a49f1855",
   "metadata": {
    "ExecuteTime": {
     "end_time": "2023-04-23T23:06:33.278386Z",
     "start_time": "2023-04-23T23:06:33.101724Z"
    }
   },
   "outputs": [],
   "source": [
    "learn.export(fname=\"mnist_highlevel.pkl\")"
   ]
  },
  {
   "cell_type": "markdown",
   "id": "8e9f8a99",
   "metadata": {},
   "source": [
    "To load the model we can use `load_learner` function."
   ]
  },
  {
   "cell_type": "code",
   "execution_count": 50,
   "id": "dc82bd6b",
   "metadata": {
    "ExecuteTime": {
     "end_time": "2023-04-23T23:24:43.812001Z",
     "start_time": "2023-04-23T23:24:43.726410Z"
    }
   },
   "outputs": [],
   "source": [
    "learn = load_learner(\n",
    "    fname=dPath/\"mnist_highlevel.pkl\", \n",
    "    cpu=True\n",
    ")"
   ]
  },
  {
   "cell_type": "markdown",
   "id": "b9d34a9f",
   "metadata": {},
   "source": [
    "`load_learner` function takes following arguments - \n",
    "\n",
    "-  `fname` - The path of the saved learner object\n",
    "- `cpu` - This parameter is set to `True`, indicating that the learner object should be loaded onto the CPU for inference."
   ]
  },
  {
   "cell_type": "markdown",
   "id": "d0dbf2c5",
   "metadata": {
    "ExecuteTime": {
     "end_time": "2023-04-23T23:08:32.503293Z",
     "start_time": "2023-04-23T23:08:32.500114Z"
    }
   },
   "source": [
    "## Performing inference"
   ]
  },
  {
   "cell_type": "markdown",
   "id": "90618835",
   "metadata": {
    "ExecuteTime": {
     "end_time": "2023-04-23T23:13:27.544975Z",
     "start_time": "2023-04-23T23:13:27.541662Z"
    }
   },
   "source": [
    "To perform inference, we will first obtain the file path of an image from our testing folder."
   ]
  },
  {
   "cell_type": "code",
   "execution_count": 47,
   "id": "e7ea2ea7",
   "metadata": {
    "ExecuteTime": {
     "end_time": "2023-04-23T23:16:12.674645Z",
     "start_time": "2023-04-23T23:16:12.655918Z"
    }
   },
   "outputs": [
    {
     "name": "stdout",
     "output_type": "stream",
     "text": [
      "Sample file path: ../data/mnist_png/testing/4/1010.png\n"
     ]
    },
    {
     "data": {
      "image/png": "[encoded data removed]",
      "text/plain": [
       "<PIL.PngImagePlugin.PngImageFile image mode=L size=28x28>"
      ]
     },
     "execution_count": 47,
     "metadata": {},
     "output_type": "execute_result"
    }
   ],
   "source": [
    "fname = (dPath/\"testing/4\").ls()[0]\n",
    "print(f'Sample file path: {fname}')\n",
    "Image.open(fname)"
   ]
  },
  {
   "cell_type": "markdown",
   "id": "6c04959b",
   "metadata": {},
   "source": [
    "We have selected an image of the digit four from our test dataset. To perform inference we will use the [`predict`](https://docs.fast.ai/learner.html#learner.predict) method from `Learner` class."
   ]
  },
  {
   "cell_type": "code",
   "execution_count": 48,
   "id": "612a9602",
   "metadata": {
    "ExecuteTime": {
     "end_time": "2023-04-23T23:17:20.306028Z",
     "start_time": "2023-04-23T23:17:20.219794Z"
    }
   },
   "outputs": [
    {
     "data": {
      "text/html": [
       "\n",
       "<style>\n",
       "    /* Turns off some styling */\n",
       "    progress {\n",
       "        /* gets rid of default border in Firefox and Opera. */\n",
       "        border: none;\n",
       "        /* Needs to be in here for Safari polyfill so background images work as expected. */\n",
       "        background-size: auto;\n",
       "    }\n",
       "    progress:not([value]), progress:not([value])::-webkit-progress-bar {\n",
       "        background: repeating-linear-gradient(45deg, #7e7e7e, #7e7e7e 10px, #5c5c5c 10px, #5c5c5c 20px);\n",
       "    }\n",
       "    .progress-bar-interrupted, .progress-bar-interrupted::-webkit-progress-bar {\n",
       "        background: #F44336;\n",
       "    }\n",
       "</style>\n"
      ],
      "text/plain": [
       "<IPython.core.display.HTML object>"
      ]
     },
     "metadata": {},
     "output_type": "display_data"
    },
    {
     "data": {
      "text/html": [],
      "text/plain": [
       "<IPython.core.display.HTML object>"
      ]
     },
     "metadata": {},
     "output_type": "display_data"
    },
    {
     "name": "stdout",
     "output_type": "stream",
     "text": [
      "('4', TensorBase(4), TensorBase([1.6044e-06, 2.5403e-06, 2.2100e-06, 2.8801e-07, 9.9986e-01,\n",
      "            4.1187e-07, 1.7771e-05, 2.4048e-05, 5.0337e-07, 9.5490e-05]))\n"
     ]
    }
   ],
   "source": [
    "preds = learn.predict(fname)\n",
    "print(preds)"
   ]
  },
  {
   "cell_type": "markdown",
   "id": "16923767",
   "metadata": {},
   "source": [
    "The prediction results include the following information:\n",
    "\n",
    "-  decoded model label: `4`. \n",
    "- The index with highest probability: `TensorBase(4)`. \n",
    "- Raw probabilities of each class in the vocabulary."
   ]
  },
  {
   "cell_type": "markdown",
   "id": "ec8f00b1",
   "metadata": {},
   "source": [
    "## Conclusion"
   ]
  },
  {
   "cell_type": "markdown",
   "id": "fcf89eed",
   "metadata": {},
   "source": [
    "In this chapter, we delved into the intricacies of building a model pipeline using `fastai`'s high-level API. We covered the essential steps of data preparation, model training, and inference, and demonstrated how the rich functionality of `fastai`'s high-level API can streamline these processes using MNIST data. In the next chapter, we will continue our journey by exploring similar concepts but with a focus on `fastai`'s mid-level API."
   ]
  }
 ],
 "metadata": {
  "kernelspec": {
   "display_name": "Python 3 (ipykernel)",
   "language": "python",
   "name": "python3"
  },
  "language_info": {
   "codemirror_mode": {
    "name": "ipython",
    "version": 3
   },
   "file_extension": ".py",
   "mimetype": "text/x-python",
   "name": "python",
   "nbconvert_exporter": "python",
   "pygments_lexer": "ipython3",
   "version": "3.9.13"
  },
  "toc": {
   "base_numbering": 1,
   "nav_menu": {},
   "number_sections": true,
   "sideBar": true,
   "skip_h1_title": false,
   "title_cell": "Table of Contents",
   "title_sidebar": "Contents",
   "toc_cell": false,
   "toc_position": {},
   "toc_section_display": true,
   "toc_window_display": true
  },
  "varInspector": {
   "cols": {
    "lenName": 16,
    "lenType": 16,
    "lenVar": 40
   },
   "kernels_config": {
    "python": {
     "delete_cmd_postfix": "",
     "delete_cmd_prefix": "del ",
     "library": "var_list.py",
     "varRefreshCmd": "print(var_dic_list())"
    },
    "r": {
     "delete_cmd_postfix": ") ",
     "delete_cmd_prefix": "rm(",
     "library": "var_list.r",
     "varRefreshCmd": "cat(var_dic_list()) "
    }
   },
   "types_to_exclude": [
    "module",
    "function",
    "builtin_function_or_method",
    "instance",
    "_Feature"
   ],
   "window_display": false
  }
 },
 "nbformat": 4,
 "nbformat_minor": 5
}

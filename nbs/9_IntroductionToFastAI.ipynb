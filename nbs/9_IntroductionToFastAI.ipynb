{
 "cells": [
  {
   "cell_type": "markdown",
   "id": "816bcf24",
   "metadata": {},
   "source": [
    "---\n",
    "title: Introduction to fastai\n",
    "---"
   ]
  },
  {
   "cell_type": "markdown",
   "id": "a4e0dae5",
   "metadata": {
    "ExecuteTime": {
     "end_time": "2023-02-08T06:20:36.442118Z",
     "start_time": "2023-02-08T06:20:36.439960Z"
    }
   },
   "source": [
    "## What is fastai?"
   ]
  },
  {
   "cell_type": "markdown",
   "id": "9ed9914b",
   "metadata": {},
   "source": [
    "As mentioned in the previous chapter, we will now look at a extremely popular deep learning framework called [`fastai`](https://docs.fast.ai/). `fastai` is an open-source software library for machine learning, which provides high-level APIs for deep learning applications. It is built on top of PyTorch and is designed to be easy to use and flexible, allowing developers to quickly prototype and implement their ideas. `fastai` provides a wide range of pre-trained models, including state-of-the-art models for computer vision, natural language processing, and recommendation systems. Additionally, `fastai` offers a number of useful tools and utilities for data processing and model evaluation, making it a popular choice among researchers and practitioners alike.\n",
    "\n",
    "The creators of `fastai` have also created accompanying educational resources to assist in learning deep learning through the use of their framework. Both the course and book are highly recommended.\n",
    "\n",
    "- Here is the link to the free course: [Link](https://course.fast.ai/)\n",
    "- Here is the link to the book: [Link](https://github.com/fastai/fastbook)\n",
    "\n",
    "The creators also have a peer-review paper published explaining high-level functionality and layered approach to the fastai library- [Link](https://arxiv.org/abs/2002.04688)."
   ]
  },
  {
   "cell_type": "markdown",
   "id": "579a8c57",
   "metadata": {},
   "source": [
    "## Introduction to fastai API"
   ]
  },
  {
   "cell_type": "markdown",
   "id": "beca0d82",
   "metadata": {
    "ExecuteTime": {
     "end_time": "2023-02-08T06:56:21.469949Z",
     "start_time": "2023-02-08T06:56:21.466956Z"
    }
   },
   "source": [
    "<figure align = \"center\">\n",
    "    <img src=\"./img/fastai_api.png\">\n",
    "    <figcaption align = \"center\">\n",
    "        Fig 9.1: The layered API from fastai.\n",
    "    </figcaption>\n",
    "</figure>"
   ]
  },
  {
   "cell_type": "markdown",
   "id": "4e562a4d",
   "metadata": {},
   "source": [
    "::: {.callout-important collapse=true}\n",
    "The image presented above differs from the original diagram in the `fastai` paper, as it represents my interpretation of using `fastai` in various use cases. In the original paper, the \"lower level API\" mentioned is similar to using raw PyTorch, so in my depiction, I consider the \"Application layer\" as the high-level API. This is my personal interpretation of the `fastai` framework and how it fits into the deep learning pipeline.\n",
    ":::"
   ]
  },
  {
   "cell_type": "markdown",
   "id": "83526ee7",
   "metadata": {},
   "source": [
    "`fastai` offers three levels of abstraction: high-level, mid-level, and low-level APIs, each catering to different use cases and levels of customization.\n",
    "\n",
    "- **High-level API**: The high-level API in `fastai` provides a simplified and opinionated interface for training deep learning models. It offers easy-to-use functions for tasks such as data preprocessing, model architecture selection, and hyperparameter tuning, making it suitable for users who want a streamlined and automated approach to deep learning. The high-level API in `fastai` also includes high-level abstractions for common deep learning tasks, such as image classification, text classification, and object detection, allowing users to quickly build complex models with just a few lines of code. Example of creating a data loader could be done using the following syntax: `{Task}DataLoaders.from_{source}`, where `{Task}` represents the specific task you are working on, such as vision, segmentation, text, or tabular, and `{source}` represents the data source you are using for your task.\n",
    "\n",
    "- **Mid-level API:** The mid-level API in `fastai` offers a balance between customization and abstraction. It provides more control over the training process compared to the high-level API, while still offering some higher-level abstractions. With the mid-level API, users can define their own custom data loaders, specify custom architectures, and configure custom training loops, allowing for more fine-grained customization of the deep learning pipeline. This makes it suitable for users who need more flexibility and control over their models while still benefiting from some abstraction and convenience. Example of creating a data loader would involve using `DataBlock` API. The `DataBlock` API provides a flexible and powerful way to define the entire data loading pipeline, including data preprocessing, splitting, and batching, all in one place.\n",
    "\n",
    "- **Low-level API:** The low-level API in `fastai` gives users complete control over the deep learning pipeline. It provides direct access to PyTorch's core functionalities, such as tensors, modules, and optimizers, allowing users to build models from scratch with full customization. The low-level API is suitable for advanced users who are already familiar with PyTorch and want to leverage fastai's utilities for additional convenience, but still need fine-grained control over every aspect of the model training process. An example of creating a data loader with fastai involves defining our own custom `Dataset` class and using the `fastai` `DataLoader` class as a wrapper around it."
   ]
  },
  {
   "cell_type": "markdown",
   "id": "a230bcc3",
   "metadata": {
    "ExecuteTime": {
     "end_time": "2023-04-23T22:29:07.312071Z",
     "start_time": "2023-04-23T22:29:07.310050Z"
    }
   },
   "source": [
    "## Conclusion"
   ]
  },
  {
   "cell_type": "markdown",
   "id": "f26c3b0a",
   "metadata": {},
   "source": [
    "In conclusion, `fastai` is a widely popular open-source deep learning framework built on top of PyTorch. It provides high-level APIs for machine learning tasks, making it easy to prototype and implement ideas quickly. With its three levels of abstraction - high-level, mid-level, and low-level APIs - `fastai` caters to different use cases and levels of customization, from automated and streamlined approaches to fine-grained control over the deep learning pipeline. Additionally, `fastai` offers extensive pre-trained models, educational resources, and utilities for data processing and model evaluation, making it a popular choice among researchers and practitioners. Whether you are a beginner or an advanced user, `fastai` provides flexibility and convenience for training deep learning models.\n",
    "\n",
    "With an understanding of the different levels of `fastai` API, the next chapter will delve into training a model using an example with the MNIST dataset, showcasing the varying levels of API abstraction in action. From high-level, automated approaches to mid-level customization, and low-level fine-grained control, we will explore how `fastai` empowers users with flexibility and convenience in building and training deep learning models."
   ]
  }
 ],
 "metadata": {
  "kernelspec": {
   "display_name": "Python 3 (ipykernel)",
   "language": "python",
   "name": "python3"
  },
  "language_info": {
   "codemirror_mode": {
    "name": "ipython",
    "version": 3
   },
   "file_extension": ".py",
   "mimetype": "text/x-python",
   "name": "python",
   "nbconvert_exporter": "python",
   "pygments_lexer": "ipython3",
   "version": "3.9.13"
  },
  "toc": {
   "base_numbering": 1,
   "nav_menu": {},
   "number_sections": true,
   "sideBar": true,
   "skip_h1_title": false,
   "title_cell": "Table of Contents",
   "title_sidebar": "Contents",
   "toc_cell": false,
   "toc_position": {
    "height": "calc(100% - 180px)",
    "left": "10px",
    "top": "150px",
    "width": "465.455px"
   },
   "toc_section_display": true,
   "toc_window_display": false
  },
  "varInspector": {
   "cols": {
    "lenName": 16,
    "lenType": 16,
    "lenVar": 40
   },
   "kernels_config": {
    "python": {
     "delete_cmd_postfix": "",
     "delete_cmd_prefix": "del ",
     "library": "var_list.py",
     "varRefreshCmd": "print(var_dic_list())"
    },
    "r": {
     "delete_cmd_postfix": ") ",
     "delete_cmd_prefix": "rm(",
     "library": "var_list.r",
     "varRefreshCmd": "cat(var_dic_list()) "
    }
   },
   "types_to_exclude": [
    "module",
    "function",
    "builtin_function_or_method",
    "instance",
    "_Feature"
   ],
   "window_display": false
  }
 },
 "nbformat": 4,
 "nbformat_minor": 5
}

{
 "cells": [
  {
   "cell_type": "markdown",
   "metadata": {
    "ExecuteTime": {
     "end_time": "2022-12-05T22:29:32.467140Z",
     "start_time": "2022-12-05T22:29:32.463342Z"
    }
   },
   "source": [
    "---\n",
    "title: PyTorch Introduction and Installation\n",
    "---"
   ]
  },
  {
   "cell_type": "markdown",
   "metadata": {
    "ExecuteTime": {
     "end_time": "2022-12-24T21:30:55.112730Z",
     "start_time": "2022-12-24T21:30:55.110809Z"
    }
   },
   "source": [
    "## What is PyTorch"
   ]
  },
  {
   "cell_type": "markdown",
   "metadata": {
    "ExecuteTime": {
     "end_time": "2022-12-24T19:45:21.903955Z",
     "start_time": "2022-12-24T19:45:21.738223Z"
    }
   },
   "source": [
    "<figure align = \"center\">\n",
    "    <img src=\"./img/pytorch_logo.png\" alt=\"Pytorch logo.\">\n",
    "</figure>"
   ]
  },
  {
   "cell_type": "markdown",
   "metadata": {},
   "source": [
    "[PyTorch](https://pytorch.org/) is an open-source machine learning library for Python, based on the Torch library, used for applications such as deep learning and GPU based acceleration. It is primarily developed by Facebook's artificial intelligence research group. PyTorch provides a high-level interface for working with large-scale machine learning models. It allows developers to define and train neural networks in a fast, flexible, and dynamic way.\n",
    "\n",
    "Some key features of PyTorch include:\n",
    "\n",
    "- **Tensor computations with GPU acceleration**: PyTorch includes GPU acceleration out of the box, allowing you to train your models on a single or multiple GPUs with ease.\n",
    "- **Dynamic computation graphs**: PyTorch allows you to define your computations as a dynamic graph, which allows you to change the structure of the graph on the fly and enables you to use dynamic control flow.\n",
    "- **Easy model building**: PyTorch provides a wide range of predefined layers and architectures that you can use to build your models, making it easy to get started with machine learning.\n",
    "- **Ecosystem support**: PyTorch has a large and active community of users, and there are many tools and libraries available that are built on top of PyTorch, such as visualization tools, data loaders, and more.\n",
    "\n",
    "Overall, PyTorch is a powerful and flexible tool for working with large-scale machine learning models and is widely used in research and industry.\n",
    "\n",
    ":::{.callout-note collapse=\"true\"}\n",
    "On a personal note, I have used many different Deep learning frameworks and I find Pytorch to be the most intuitive. It blends nicely with regular Python and have really good ecosystem. I am also big fan of [FastAI](https://docs.fast.ai/) library which is written on top of Pytorch and is one of the best framework to do deep learning based project.\n",
    ":::"
   ]
  },
  {
   "cell_type": "markdown",
   "metadata": {},
   "source": [
    "## Installation"
   ]
  },
  {
   "cell_type": "markdown",
   "metadata": {},
   "source": [
    "Since Pytorch is under active development and the new version keeps getting released. You want to visit [this website](https://pytorch.org/get-started/locally/) for the latest Pytorch installation instruction.\n",
    "\n",
    "<figure align = \"center\">\n",
    "    <img src=\"./img/pytorch_installation.png\" style=\"width:100%\">\n",
    "    <figcaption align = \"center\">\n",
    "        Fig 1.1: Pytorch Installation page.\n",
    "    </figcaption>\n",
    "</figure>\n",
    "\n",
    "The above interface is what you will typically see on the installation page, based on your OS and other selection, it will produce a command you can run on your command line interface and install Pytorch. I recommend installing through conda as it will take care of the dependencies automatically.\n"
   ]
  },
  {
   "cell_type": "markdown",
   "metadata": {},
   "source": [
    "## Checking Installation"
   ]
  },
  {
   "cell_type": "markdown",
   "metadata": {},
   "source": [
    "Let's run the import command and see if we have Pytorch setup correctly."
   ]
  },
  {
   "cell_type": "code",
   "execution_count": 5,
   "metadata": {
    "ExecuteTime": {
     "end_time": "2022-12-24T20:18:13.353460Z",
     "start_time": "2022-12-24T20:18:13.350814Z"
    }
   },
   "outputs": [
    {
     "name": "stdout",
     "output_type": "stream",
     "text": [
      "1.12.1\n"
     ]
    }
   ],
   "source": [
    "import torch\n",
    "print(torch.__version__)"
   ]
  },
  {
   "cell_type": "markdown",
   "metadata": {},
   "source": [
    "It is recommended to use a machine with a GPU when working with PyTorch because it is typically used for GPU-accelerated computations. If you are running PyTorch on a machine with a GPU and want to verify that it has access to the GPU, you can run the following command-"
   ]
  },
  {
   "cell_type": "code",
   "execution_count": 9,
   "metadata": {
    "ExecuteTime": {
     "end_time": "2022-12-24T20:21:59.940933Z",
     "start_time": "2022-12-24T20:21:59.938115Z"
    }
   },
   "outputs": [
    {
     "data": {
      "text/plain": [
       "True"
      ]
     },
     "execution_count": 9,
     "metadata": {},
     "output_type": "execute_result"
    }
   ],
   "source": [
    "torch.cuda.is_available()"
   ]
  },
  {
   "cell_type": "markdown",
   "metadata": {},
   "source": [
    "If PyTorch is installed on a machine with a GPU, the above command will return `True` otherwise it will return `False`."
   ]
  }
 ],
 "metadata": {
  "kernelspec": {
   "display_name": "Python 3 (ipykernel)",
   "language": "python",
   "name": "python3"
  },
  "language_info": {
   "codemirror_mode": {
    "name": "ipython",
    "version": 3
   },
   "file_extension": ".py",
   "mimetype": "text/x-python",
   "name": "python",
   "nbconvert_exporter": "python",
   "pygments_lexer": "ipython3",
   "version": "3.9.13"
  },
  "toc": {
   "base_numbering": 1,
   "nav_menu": {},
   "number_sections": true,
   "sideBar": true,
   "skip_h1_title": false,
   "title_cell": "Table of Contents",
   "title_sidebar": "Contents",
   "toc_cell": false,
   "toc_position": {
    "height": "801.2px",
    "left": "167px",
    "top": "86.4px",
    "width": "262.6px"
   },
   "toc_section_display": true,
   "toc_window_display": true
  },
  "varInspector": {
   "cols": {
    "lenName": 16,
    "lenType": 16,
    "lenVar": 40
   },
   "kernels_config": {
    "python": {
     "delete_cmd_postfix": "",
     "delete_cmd_prefix": "del ",
     "library": "var_list.py",
     "varRefreshCmd": "print(var_dic_list())"
    },
    "r": {
     "delete_cmd_postfix": ") ",
     "delete_cmd_prefix": "rm(",
     "library": "var_list.r",
     "varRefreshCmd": "cat(var_dic_list()) "
    }
   },
   "types_to_exclude": [
    "module",
    "function",
    "builtin_function_or_method",
    "instance",
    "_Feature"
   ],
   "window_display": false
  }
 },
 "nbformat": 4,
 "nbformat_minor": 4
}

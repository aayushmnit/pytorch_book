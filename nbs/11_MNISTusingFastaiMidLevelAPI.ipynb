{
 "cells": [
  {
   "cell_type": "markdown",
   "id": "a76956c1",
   "metadata": {},
   "source": [
    "---\n",
    "title: Modeling pipeline with fastai's Mid-Level API (draft)\n",
    "---"
   ]
  },
  {
   "cell_type": "code",
   "execution_count": null,
   "id": "35bca59b",
   "metadata": {},
   "outputs": [],
   "source": []
  },
  {
   "cell_type": "markdown",
   "id": "acc792d4",
   "metadata": {},
   "source": [
    "## Creating a dataloader"
   ]
  },
  {
   "cell_type": "code",
   "execution_count": 1,
   "id": "1c6e3d0e",
   "metadata": {
    "ExecuteTime": {
     "end_time": "2023-04-23T22:38:50.293260Z",
     "start_time": "2023-04-23T22:38:49.196441Z"
    }
   },
   "outputs": [],
   "source": [
    "from fastai.vision.all import *\n",
    "\n",
    "dPath = Path(\"../data/mnist_png/\")"
   ]
  },
  {
   "cell_type": "code",
   "execution_count": 2,
   "id": "66891697",
   "metadata": {
    "ExecuteTime": {
     "end_time": "2023-04-23T22:38:58.002827Z",
     "start_time": "2023-04-23T22:38:57.419223Z"
    }
   },
   "outputs": [
    {
     "data": {
      "text/plain": [
       "(#70000) [Path('../data/mnist_png/testing/0/10.png'),Path('../data/mnist_png/testing/0/1001.png'),Path('../data/mnist_png/testing/0/1009.png'),Path('../data/mnist_png/testing/0/101.png'),Path('../data/mnist_png/testing/0/1034.png'),Path('../data/mnist_png/testing/0/1047.png'),Path('../data/mnist_png/testing/0/1061.png'),Path('../data/mnist_png/testing/0/1084.png'),Path('../data/mnist_png/testing/0/1094.png'),Path('../data/mnist_png/testing/0/1121.png')...]"
      ]
     },
     "execution_count": 2,
     "metadata": {},
     "output_type": "execute_result"
    }
   ],
   "source": [
    "get_image_files(dPath)"
   ]
  },
  {
   "cell_type": "code",
   "execution_count": 3,
   "id": "92c35803",
   "metadata": {
    "ExecuteTime": {
     "end_time": "2023-04-23T22:39:07.348222Z",
     "start_time": "2023-04-23T22:39:03.474793Z"
    }
   },
   "outputs": [],
   "source": [
    "dataset = DataBlock(\n",
    "                blocks = (ImageBlock(cls = PILImageBW), CategoryBlock),\n",
    "                get_items = get_image_files,\n",
    "                splitter = GrandparentSplitter(train_name='training', valid_name='testing'),\n",
    "                get_y = parent_label,\n",
    "                item_tfms = Resize(28),\n",
    "                batch_tfms = None\n",
    "            )\n",
    "\n",
    "dls = dataset.dataloaders(dPath, bs=128)"
   ]
  },
  {
   "cell_type": "code",
   "execution_count": 4,
   "id": "3000cb14",
   "metadata": {
    "ExecuteTime": {
     "end_time": "2023-04-23T22:39:10.299211Z",
     "start_time": "2023-04-23T22:39:08.826341Z"
    }
   },
   "outputs": [
    {
     "name": "stdout",
     "output_type": "stream",
     "text": [
      "['0', '1', '2', '3', '4', '5', '6', '7', '8', '9']\n",
      "10\n"
     ]
    },
    {
     "data": {
      "image/png": "[encoded data removed]",
      "text/plain": [
       "<Figure size 1000x600 with 24 Axes>"
      ]
     },
     "metadata": {},
     "output_type": "display_data"
    }
   ],
   "source": [
    "print(dls.vocab) ## Prints class labels\n",
    "print(dls.c) ## Prints number of classes\n",
    "dls.show_batch(max_n=24,figsize=(10,6)) ## Show sample data"
   ]
  },
  {
   "cell_type": "code",
   "execution_count": 5,
   "id": "2fd2fb52",
   "metadata": {
    "ExecuteTime": {
     "end_time": "2023-04-23T22:39:17.854502Z",
     "start_time": "2023-04-23T22:39:16.046613Z"
    }
   },
   "outputs": [
    {
     "data": {
      "text/plain": [
       "(torch.Size([128, 1, 28, 28]), torch.Size([128]))"
      ]
     },
     "execution_count": 5,
     "metadata": {},
     "output_type": "execute_result"
    }
   ],
   "source": [
    "dls.one_batch()[0].shape, dls.one_batch()[1].shape"
   ]
  },
  {
   "cell_type": "code",
   "execution_count": 6,
   "id": "bb7969af",
   "metadata": {
    "ExecuteTime": {
     "end_time": "2023-04-23T22:39:22.193666Z",
     "start_time": "2023-04-23T22:39:22.190522Z"
    }
   },
   "outputs": [],
   "source": [
    "class MLP(nn.Module):\n",
    "    def __init__(self, n_in, n_out):\n",
    "        super().__init__()\n",
    "        self.model = nn.Sequential(\n",
    "            nn.Linear(n_in, 256),\n",
    "            nn.ReLU(),\n",
    "            nn.Linear(256, 128),\n",
    "            nn.ReLU(),\n",
    "            nn.Linear(128, n_out)\n",
    "        )\n",
    "    def forward(self, x):\n",
    "        return self.model(x.view(-1,784))"
   ]
  },
  {
   "cell_type": "code",
   "execution_count": 7,
   "id": "3e22304e",
   "metadata": {
    "ExecuteTime": {
     "end_time": "2023-04-23T22:39:27.118108Z",
     "start_time": "2023-04-23T22:39:27.114371Z"
    }
   },
   "outputs": [],
   "source": [
    "## Defining the learner\n",
    "model = MLP(784, 10)\n",
    "mlp_learner = Learner(\n",
    "    dls = dls, \n",
    "    model=model, \n",
    "    loss_func=F.cross_entropy, \n",
    "    model_dir=dPath/\"models\",\n",
    "    metrics=accuracy)"
   ]
  },
  {
   "cell_type": "code",
   "execution_count": null,
   "id": "9737af4b",
   "metadata": {},
   "outputs": [],
   "source": [
    "## Finidng Ideal learning late\n",
    "mlp_learner.lr_find()"
   ]
  },
  {
   "cell_type": "code",
   "execution_count": null,
   "id": "ba6a6145",
   "metadata": {},
   "outputs": [],
   "source": [
    "mlp_learner.fit_one_cycle(5,5e-2)"
   ]
  }
 ],
 "metadata": {
  "kernelspec": {
   "display_name": "Python 3 (ipykernel)",
   "language": "python",
   "name": "python3"
  },
  "language_info": {
   "codemirror_mode": {
    "name": "ipython",
    "version": 3
   },
   "file_extension": ".py",
   "mimetype": "text/x-python",
   "name": "python",
   "nbconvert_exporter": "python",
   "pygments_lexer": "ipython3",
   "version": "3.9.13"
  },
  "toc": {
   "base_numbering": 1,
   "nav_menu": {},
   "number_sections": true,
   "sideBar": true,
   "skip_h1_title": false,
   "title_cell": "Table of Contents",
   "title_sidebar": "Contents",
   "toc_cell": false,
   "toc_position": {},
   "toc_section_display": true,
   "toc_window_display": false
  },
  "varInspector": {
   "cols": {
    "lenName": 16,
    "lenType": 16,
    "lenVar": 40
   },
   "kernels_config": {
    "python": {
     "delete_cmd_postfix": "",
     "delete_cmd_prefix": "del ",
     "library": "var_list.py",
     "varRefreshCmd": "print(var_dic_list())"
    },
    "r": {
     "delete_cmd_postfix": ") ",
     "delete_cmd_prefix": "rm(",
     "library": "var_list.r",
     "varRefreshCmd": "cat(var_dic_list()) "
    }
   },
   "types_to_exclude": [
    "module",
    "function",
    "builtin_function_or_method",
    "instance",
    "_Feature"
   ],
   "window_display": false
  }
 },
 "nbformat": 4,
 "nbformat_minor": 5
}

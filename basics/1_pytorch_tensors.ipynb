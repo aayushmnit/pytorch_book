{
 "cells": [
  {
   "cell_type": "markdown",
   "id": "4ea87ff0",
   "metadata": {},
   "source": [
    "---\n",
    "title: Tensors \n",
    "---"
   ]
  },
  {
   "cell_type": "markdown",
   "id": "6449a3c1",
   "metadata": {},
   "source": [
    "## What are Tensors?"
   ]
  },
  {
   "cell_type": "markdown",
   "id": "b3341929",
   "metadata": {},
   "source": [
    "PyTorch provides tensors as its primary data structure. Tensors are similar to numpy arrays, but they can be used on a GPU to accelerate the computation. PyTorch tensors are similar to numpy arrays, but they have additional functionality (automatic differentiation) and are designed to take advantage of GPUs for acceleration. Similar to numpy, tensors in PyTorch supports a variety of operations, including indexing, slicing, math operations, linear algebra operations, and more. Let's dive in by importing the library.  "
   ]
  },
  {
   "cell_type": "code",
   "execution_count": 2,
   "id": "1d9ad92e",
   "metadata": {
    "ExecuteTime": {
     "end_time": "2022-12-25T19:34:09.422348Z",
     "start_time": "2022-12-25T19:34:09.420092Z"
    }
   },
   "outputs": [],
   "source": [
    "import torch\n",
    "import numpy as np"
   ]
  },
  {
   "cell_type": "markdown",
   "id": "3646e24f",
   "metadata": {},
   "source": [
    "## Initializing a Tensor"
   ]
  },
  {
   "cell_type": "markdown",
   "id": "1a7cf75e",
   "metadata": {},
   "source": [
    "There are several ways to initialize tensors in PyTorch. Here are some examples:\n",
    "\n",
    "**Initializing from an iterator like a list**\n",
    "\n"
   ]
  },
  {
   "cell_type": "code",
   "execution_count": 8,
   "id": "7c5a92de",
   "metadata": {
    "ExecuteTime": {
     "end_time": "2022-12-25T19:47:03.640369Z",
     "start_time": "2022-12-25T19:47:03.636990Z"
    }
   },
   "outputs": [
    {
     "name": "stdout",
     "output_type": "stream",
     "text": [
      "Tensor from list: \n",
      " tensor([1, 2, 3, 4])\n",
      "Tensor from nested list: \n",
      " tensor([[1, 2],\n",
      "        [3, 4]])\n"
     ]
    }
   ],
   "source": [
    "import torch\n",
    "\n",
    "# Initialize a tensor from a list\n",
    "tensor_from_list = torch.tensor([1, 2, 3, 4])\n",
    "print(\"Tensor from list: \\n\", tensor_from_list)\n",
    "\n",
    "# Initialize a tensor from a nested list\n",
    "tensor_from_nested_list = torch.tensor([[1, 2], [3, 4]])\n",
    "print(\"Tensor from nested list: \\n\", tensor_from_nested_list)"
   ]
  },
  {
   "cell_type": "markdown",
   "id": "c684a296",
   "metadata": {},
   "source": [
    "**Initializing from a numpy array**"
   ]
  },
  {
   "cell_type": "code",
   "execution_count": 9,
   "id": "8de39717",
   "metadata": {
    "ExecuteTime": {
     "end_time": "2022-12-25T19:47:58.479436Z",
     "start_time": "2022-12-25T19:47:58.476329Z"
    }
   },
   "outputs": [
    {
     "name": "stdout",
     "output_type": "stream",
     "text": [
      "Tensor from np array: \n",
      " tensor([[1, 2],\n",
      "        [3, 4]])\n"
     ]
    }
   ],
   "source": [
    "# Create a NumPy array\n",
    "numpy_array = np.array([[1, 2], [3, 4]])\n",
    "\n",
    "# Initialize a tensor from a NumPy array\n",
    "tensor_from_numpy = torch.from_numpy(numpy_array)\n",
    "print(\"Tensor from np array: \\n\", tensor_from_numpy)"
   ]
  },
  {
   "cell_type": "markdown",
   "id": "44938d83",
   "metadata": {},
   "source": [
    "**Initializing from another tensor**"
   ]
  },
  {
   "cell_type": "code",
   "execution_count": 13,
   "id": "c33a1a8e",
   "metadata": {
    "ExecuteTime": {
     "end_time": "2022-12-25T19:49:19.939197Z",
     "start_time": "2022-12-25T19:49:19.935406Z"
    }
   },
   "outputs": [
    {
     "name": "stdout",
     "output_type": "stream",
     "text": [
      "Tensor from another tensor: \n",
      " tensor([1, 2, 3, 4])\n"
     ]
    }
   ],
   "source": [
    "# Create a tensor\n",
    "original_tensor = torch.tensor([1, 2, 3, 4])\n",
    "\n",
    "# Initialize a new tensor from the original tensor\n",
    "new_tensor = original_tensor.clone()\n",
    "print(\"Tensor from another tensor: \\n\", new_tensor)"
   ]
  },
  {
   "cell_type": "markdown",
   "id": "33c963c9",
   "metadata": {},
   "source": [
    "**Constant or random initialization**"
   ]
  },
  {
   "cell_type": "code",
   "execution_count": 15,
   "id": "d6a2c69c",
   "metadata": {
    "ExecuteTime": {
     "end_time": "2022-12-25T19:52:24.593920Z",
     "start_time": "2022-12-25T19:52:24.589406Z"
    }
   },
   "outputs": [
    {
     "name": "stdout",
     "output_type": "stream",
     "text": [
      "Tensor with all elements set to zero: \n",
      " tensor([[0., 0., 0., 0.],\n",
      "        [0., 0., 0., 0.],\n",
      "        [0., 0., 0., 0.]])\n",
      "\n",
      " Tensor with all elements set to one: \n",
      " tensor([[1., 1., 1., 1.],\n",
      "        [1., 1., 1., 1.],\n",
      "        [1., 1., 1., 1.]])\n",
      "\n",
      " Tensor with all elements set to a specific value: \n",
      " tensor([[2.5000, 2.5000, 2.5000, 2.5000],\n",
      "        [2.5000, 2.5000, 2.5000, 2.5000],\n",
      "        [2.5000, 2.5000, 2.5000, 2.5000]])\n",
      "\n",
      " Tensor with random initialization: \n",
      " tensor([[0.8675, 0.0161, 0.5472, 0.7002],\n",
      "        [0.6551, 0.3049, 0.4088, 0.6341],\n",
      "        [0.2363, 0.8951, 0.0335, 0.5779]])\n",
      "\n",
      " Tensor with random values from a normal distribution: \n",
      " tensor([[ 1.0550,  0.9214, -1.3023,  0.4119],\n",
      "        [-0.4691,  0.8733,  0.7910, -2.3932],\n",
      "        [-0.6304, -0.8792,  0.4188,  0.4221]])\n"
     ]
    }
   ],
   "source": [
    "# Initialize a tensor with all elements set to zero\n",
    "tensor_zeros = torch.zeros(3, 4)\n",
    "print(\"Tensor with all elements set to zero: \\n\", tensor_zeros)\n",
    "\n",
    "# Initialize a tensor with all elements set to one\n",
    "tensor_ones = torch.ones(3, 4)\n",
    "print(\"\\n Tensor with all elements set to one: \\n\", tensor_ones)\n",
    "\n",
    "# Initialize a tensor with all elements set to a specific value\n",
    "tensor_full = torch.full((3, 4), fill_value=2.5)\n",
    "print(\"\\n Tensor with all elements set to a specific value: \\n\", tensor_full)\n",
    "\n",
    "# Initialize a tensor with random values\n",
    "tensor_rand = torch.rand(3, 4)\n",
    "print(\"\\n Tensor with random initialization: \\n\", tensor_rand)\n",
    "\n",
    "# Initialize a tensor with random values from a normal distribution\n",
    "tensor_randn = torch.randn(3, 4)\n",
    "print(\"\\n Tensor with random values from a normal distribution: \\n\", tensor_randn)"
   ]
  },
  {
   "cell_type": "markdown",
   "id": "6417f624",
   "metadata": {},
   "source": [
    "## References"
   ]
  },
  {
   "cell_type": "markdown",
   "id": "4a775a8d",
   "metadata": {},
   "source": [
    "- [Pytorch tensors tutorial documentation](https://pytorch.org/tutorials/beginner/basics/tensorqs_tutorial.html).\n"
   ]
  }
 ],
 "metadata": {
  "kernelspec": {
   "display_name": "Python 3 (ipykernel)",
   "language": "python",
   "name": "python3"
  },
  "language_info": {
   "codemirror_mode": {
    "name": "ipython",
    "version": 3
   },
   "file_extension": ".py",
   "mimetype": "text/x-python",
   "name": "python",
   "nbconvert_exporter": "python",
   "pygments_lexer": "ipython3",
   "version": "3.9.13"
  },
  "toc": {
   "base_numbering": 1,
   "nav_menu": {},
   "number_sections": true,
   "sideBar": true,
   "skip_h1_title": false,
   "title_cell": "Table of Contents",
   "title_sidebar": "Contents",
   "toc_cell": false,
   "toc_position": {},
   "toc_section_display": true,
   "toc_window_display": false
  },
  "varInspector": {
   "cols": {
    "lenName": 16,
    "lenType": 16,
    "lenVar": 40
   },
   "kernels_config": {
    "python": {
     "delete_cmd_postfix": "",
     "delete_cmd_prefix": "del ",
     "library": "var_list.py",
     "varRefreshCmd": "print(var_dic_list())"
    },
    "r": {
     "delete_cmd_postfix": ") ",
     "delete_cmd_prefix": "rm(",
     "library": "var_list.r",
     "varRefreshCmd": "cat(var_dic_list()) "
    }
   },
   "types_to_exclude": [
    "module",
    "function",
    "builtin_function_or_method",
    "instance",
    "_Feature"
   ],
   "window_display": false
  }
 },
 "nbformat": 4,
 "nbformat_minor": 5
}

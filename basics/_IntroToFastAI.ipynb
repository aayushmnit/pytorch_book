{
 "cells": [
  {
   "cell_type": "code",
   "execution_count": 1,
   "id": "9f157123",
   "metadata": {
    "ExecuteTime": {
     "end_time": "2023-01-20T06:42:09.949393Z",
     "start_time": "2023-01-20T06:42:09.210335Z"
    }
   },
   "outputs": [
    {
     "data": {
      "text/html": [
       "<div>\n",
       "<style scoped>\n",
       "    .dataframe tbody tr th:only-of-type {\n",
       "        vertical-align: middle;\n",
       "    }\n",
       "\n",
       "    .dataframe tbody tr th {\n",
       "        vertical-align: top;\n",
       "    }\n",
       "\n",
       "    .dataframe thead th {\n",
       "        text-align: right;\n",
       "    }\n",
       "</style>\n",
       "<table border=\"1\" class=\"dataframe\">\n",
       "  <thead>\n",
       "    <tr style=\"text-align: right;\">\n",
       "      <th></th>\n",
       "      <th>0</th>\n",
       "      <th>1</th>\n",
       "      <th>2</th>\n",
       "      <th>3</th>\n",
       "      <th>target</th>\n",
       "      <th>isTest</th>\n",
       "    </tr>\n",
       "  </thead>\n",
       "  <tbody>\n",
       "    <tr>\n",
       "      <th>0</th>\n",
       "      <td>0.651781</td>\n",
       "      <td>0.338225</td>\n",
       "      <td>0.001471</td>\n",
       "      <td>-0.766705</td>\n",
       "      <td>50.822657</td>\n",
       "      <td>False</td>\n",
       "    </tr>\n",
       "    <tr>\n",
       "      <th>1</th>\n",
       "      <td>0.962342</td>\n",
       "      <td>0.457310</td>\n",
       "      <td>0.770837</td>\n",
       "      <td>0.243168</td>\n",
       "      <td>149.871146</td>\n",
       "      <td>False</td>\n",
       "    </tr>\n",
       "    <tr>\n",
       "      <th>2</th>\n",
       "      <td>-1.144693</td>\n",
       "      <td>1.252002</td>\n",
       "      <td>-0.091267</td>\n",
       "      <td>-0.401571</td>\n",
       "      <td>-26.860053</td>\n",
       "      <td>False</td>\n",
       "    </tr>\n",
       "    <tr>\n",
       "      <th>3</th>\n",
       "      <td>0.487973</td>\n",
       "      <td>0.831351</td>\n",
       "      <td>-0.919651</td>\n",
       "      <td>2.642936</td>\n",
       "      <td>15.773220</td>\n",
       "      <td>False</td>\n",
       "    </tr>\n",
       "    <tr>\n",
       "      <th>4</th>\n",
       "      <td>2.069475</td>\n",
       "      <td>-0.446991</td>\n",
       "      <td>-0.939424</td>\n",
       "      <td>-1.052124</td>\n",
       "      <td>23.428575</td>\n",
       "      <td>False</td>\n",
       "    </tr>\n",
       "  </tbody>\n",
       "</table>\n",
       "</div>"
      ],
      "text/plain": [
       "          0         1         2         3      target  isTest\n",
       "0  0.651781  0.338225  0.001471 -0.766705   50.822657   False\n",
       "1  0.962342  0.457310  0.770837  0.243168  149.871146   False\n",
       "2 -1.144693  1.252002 -0.091267 -0.401571  -26.860053   False\n",
       "3  0.487973  0.831351 -0.919651  2.642936   15.773220   False\n",
       "4  2.069475 -0.446991 -0.939424 -1.052124   23.428575   False"
      ]
     },
     "execution_count": 1,
     "metadata": {},
     "output_type": "execute_result"
    }
   ],
   "source": [
    "## Importing required functions\n",
    "import torch\n",
    "from torch import nn\n",
    "import numpy as np\n",
    "import pandas as pd\n",
    "from sklearn.datasets import make_regression\n",
    "from torch.utils.data import Dataset, DataLoader\n",
    "from sklearn.model_selection import train_test_split\n",
    "\n",
    "## Generate dataset with linear property\n",
    "X, y, coef = make_regression(\n",
    "    n_samples=1500,\n",
    "    n_features=4,  ## Using four features\n",
    "    n_informative=4,\n",
    "    noise=0.3,\n",
    "    coef=True,\n",
    "    random_state=0,\n",
    "    bias=2)\n",
    "\n",
    "\n",
    "## Making a train-test split\n",
    "X_train, X_test, y_train, y_test = train_test_split(X, y, test_size=0.33)\n",
    "\n",
    "## Converting to Dataframe\n",
    "df = pd.DataFrame(np.concatenate([X_train, X_test]))\n",
    "df['target'] = pd.Series(np.concatenate([y_train, y_test]))\n",
    "df['isTest'] = True\n",
    "df.loc[:X_train.shape[0],'isTest']=False\n",
    "\n",
    "df.head()"
   ]
  },
  {
   "cell_type": "code",
   "execution_count": 2,
   "id": "fe96089f",
   "metadata": {
    "ExecuteTime": {
     "end_time": "2023-01-20T06:42:10.237143Z",
     "start_time": "2023-01-20T06:42:09.950989Z"
    }
   },
   "outputs": [],
   "source": [
    "from fastai.tabular.all import *\n",
    "from nbdev import show_doc"
   ]
  },
  {
   "cell_type": "code",
   "execution_count": 7,
   "id": "9c65a68b",
   "metadata": {
    "ExecuteTime": {
     "end_time": "2023-01-20T06:51:56.199298Z",
     "start_time": "2023-01-20T06:51:56.193539Z"
    }
   },
   "outputs": [
    {
     "data": {
      "text/markdown": [
       "---\n",
       "\n",
       "### TabularPandas\n",
       "\n",
       ">      TabularPandas (df, procs=None, cat_names=None, cont_names=None,\n",
       ">                     y_names=None, y_block=None, splits=None, do_setup=True,\n",
       ">                     device=None, inplace=False, reduce_memory=True)\n",
       "\n",
       "A `Tabular` object with transforms"
      ],
      "text/plain": [
       "---\n",
       "\n",
       "### TabularPandas\n",
       "\n",
       ">      TabularPandas (df, procs=None, cat_names=None, cont_names=None,\n",
       ">                     y_names=None, y_block=None, splits=None, do_setup=True,\n",
       ">                     device=None, inplace=False, reduce_memory=True)\n",
       "\n",
       "A `Tabular` object with transforms"
      ]
     },
     "execution_count": 7,
     "metadata": {},
     "output_type": "execute_result"
    }
   ],
   "source": [
    "show_doc(TabularPandas)"
   ]
  },
  {
   "cell_type": "code",
   "execution_count": 17,
   "id": "d830a78d",
   "metadata": {
    "ExecuteTime": {
     "end_time": "2023-01-20T06:57:38.164967Z",
     "start_time": "2023-01-20T06:57:38.157910Z"
    }
   },
   "outputs": [],
   "source": [
    "dblck = TabularPandas(\n",
    "    df = df,\n",
    "    cont_names=[0,1,2,3],\n",
    "    procs = None,\n",
    "    y_names=\"target\",\n",
    "    splits=ColSplitter('isTest')(df)\n",
    ")\n",
    "dls = dblck.dataloaders()"
   ]
  },
  {
   "cell_type": "code",
   "execution_count": 41,
   "id": "57135fa6",
   "metadata": {
    "ExecuteTime": {
     "end_time": "2023-01-20T07:02:00.931883Z",
     "start_time": "2023-01-20T07:02:00.927508Z"
    }
   },
   "outputs": [
    {
     "name": "stdout",
     "output_type": "stream",
     "text": [
      "(1006, 4) (1006, 1) (494, 4) (494, 1)\n"
     ]
    }
   ],
   "source": [
    "print(dls.train_ds.xs.shape, dls.train_ds.targ.shape, dls.valid_ds.xs.shape, dls.valid_ds.targ.shape)"
   ]
  },
  {
   "cell_type": "code",
   "execution_count": 64,
   "id": "16303975",
   "metadata": {
    "ExecuteTime": {
     "end_time": "2023-01-20T07:13:17.501974Z",
     "start_time": "2023-01-20T07:13:17.498255Z"
    }
   },
   "outputs": [],
   "source": [
    "class Linear(nn.Module):\n",
    "\n",
    "    def __init__(self, n_in, n_out):\n",
    "        super().__init__()\n",
    "        self.linear = nn.Linear(n_in, n_out)\n",
    "\n",
    "    def forward(self, x_cont, x_cat=None):\n",
    "        return self.linear(x_cont)\n",
    "\n",
    "## Initializing model\n",
    "model = Linear(dls.xs.shape[1], 1)"
   ]
  },
  {
   "cell_type": "code",
   "execution_count": 77,
   "id": "2b85980a",
   "metadata": {
    "ExecuteTime": {
     "end_time": "2023-01-20T07:15:36.965676Z",
     "start_time": "2023-01-20T07:15:36.956310Z"
    }
   },
   "outputs": [
    {
     "data": {
      "text/markdown": [
       "---\n",
       "\n",
       "### TabularModel\n",
       "\n",
       ">      TabularModel (emb_szs:list, n_cont:int, out_sz:int, layers:list,\n",
       ">                    ps:float|list=None, embed_p:float=0.0, y_range=None,\n",
       ">                    use_bn:bool=True, bn_final:bool=False, bn_cont:bool=True,\n",
       ">                    act_cls=ReLU(inplace=True), lin_first:bool=True)\n",
       "\n",
       "Basic model for tabular data.\n",
       "\n",
       "|    | **Type** | **Default** | **Details** |\n",
       "| -- | -------- | ----------- | ----------- |\n",
       "| emb_szs | list |  | Sequence of (num_embeddings, embedding_dim) for each categorical variable |\n",
       "| n_cont | int |  | Number of continuous variables |\n",
       "| out_sz | int |  | Number of outputs for final `LinBnDrop` layer |\n",
       "| layers | list |  | Sequence of ints used to specify the input and output size of each `LinBnDrop` layer |\n",
       "| ps | float \\| list | None | Sequence of dropout probabilities for `LinBnDrop` |\n",
       "| embed_p | float | 0.0 | Dropout probability for `Embedding` layer |\n",
       "| y_range | NoneType | None | Low and high for `SigmoidRange` activation |\n",
       "| use_bn | bool | True | Use `BatchNorm1d` in `LinBnDrop` layers |\n",
       "| bn_final | bool | False | Use `BatchNorm1d` on final layer |\n",
       "| bn_cont | bool | True | Use `BatchNorm1d` on continuous variables |\n",
       "| act_cls | ReLU | ReLU(inplace=True) | Activation type for `LinBnDrop` layers |\n",
       "| lin_first | bool | True | Linear layer is first or last in `LinBnDrop` layers |"
      ],
      "text/plain": [
       "---\n",
       "\n",
       "### TabularModel\n",
       "\n",
       ">      TabularModel (emb_szs:list, n_cont:int, out_sz:int, layers:list,\n",
       ">                    ps:float|list=None, embed_p:float=0.0, y_range=None,\n",
       ">                    use_bn:bool=True, bn_final:bool=False, bn_cont:bool=True,\n",
       ">                    act_cls=ReLU(inplace=True), lin_first:bool=True)\n",
       "\n",
       "Basic model for tabular data.\n",
       "\n",
       "|    | **Type** | **Default** | **Details** |\n",
       "| -- | -------- | ----------- | ----------- |\n",
       "| emb_szs | list |  | Sequence of (num_embeddings, embedding_dim) for each categorical variable |\n",
       "| n_cont | int |  | Number of continuous variables |\n",
       "| out_sz | int |  | Number of outputs for final `LinBnDrop` layer |\n",
       "| layers | list |  | Sequence of ints used to specify the input and output size of each `LinBnDrop` layer |\n",
       "| ps | float \\| list | None | Sequence of dropout probabilities for `LinBnDrop` |\n",
       "| embed_p | float | 0.0 | Dropout probability for `Embedding` layer |\n",
       "| y_range | NoneType | None | Low and high for `SigmoidRange` activation |\n",
       "| use_bn | bool | True | Use `BatchNorm1d` in `LinBnDrop` layers |\n",
       "| bn_final | bool | False | Use `BatchNorm1d` on final layer |\n",
       "| bn_cont | bool | True | Use `BatchNorm1d` on continuous variables |\n",
       "| act_cls | ReLU | ReLU(inplace=True) | Activation type for `LinBnDrop` layers |\n",
       "| lin_first | bool | True | Linear layer is first or last in `LinBnDrop` layers |"
      ]
     },
     "execution_count": 77,
     "metadata": {},
     "output_type": "execute_result"
    }
   ],
   "source": [
    "show_doc(TabularModel)"
   ]
  },
  {
   "cell_type": "code",
   "execution_count": 157,
   "id": "45d45a14",
   "metadata": {
    "ExecuteTime": {
     "end_time": "2023-01-20T07:36:51.820772Z",
     "start_time": "2023-01-20T07:36:51.817654Z"
    }
   },
   "outputs": [],
   "source": [
    "learn = tabular_learner(dls, layers=[], config = {\"use_bn\":False, \"bn_cont\":False, \"act_cls\":None})"
   ]
  },
  {
   "cell_type": "code",
   "execution_count": 160,
   "id": "1c26a6f8",
   "metadata": {
    "ExecuteTime": {
     "end_time": "2023-01-20T07:37:08.388157Z",
     "start_time": "2023-01-20T07:37:08.384927Z"
    }
   },
   "outputs": [
    {
     "data": {
      "text/plain": [
       "(TabularModel(\n",
       "   (embeds): ModuleList()\n",
       "   (emb_drop): Dropout(p=0.0, inplace=False)\n",
       "   (layers): Sequential(\n",
       "     (0): LinBnDrop(\n",
       "       (0): Linear(in_features=4, out_features=1, bias=True)\n",
       "     )\n",
       "   )\n",
       " ),\n",
       " FlattenedLoss of MSELoss())"
      ]
     },
     "execution_count": 160,
     "metadata": {},
     "output_type": "execute_result"
    }
   ],
   "source": [
    "learn.model, learn.loss_func"
   ]
  },
  {
   "cell_type": "code",
   "execution_count": 159,
   "id": "3a17af9f",
   "metadata": {
    "ExecuteTime": {
     "end_time": "2023-01-20T07:36:54.446865Z",
     "start_time": "2023-01-20T07:36:53.393842Z"
    }
   },
   "outputs": [
    {
     "data": {
      "text/html": [
       "\n",
       "<style>\n",
       "    /* Turns off some styling */\n",
       "    progress {\n",
       "        /* gets rid of default border in Firefox and Opera. */\n",
       "        border: none;\n",
       "        /* Needs to be in here for Safari polyfill so background images work as expected. */\n",
       "        background-size: auto;\n",
       "    }\n",
       "    progress:not([value]), progress:not([value])::-webkit-progress-bar {\n",
       "        background: repeating-linear-gradient(45deg, #7e7e7e, #7e7e7e 10px, #5c5c5c 10px, #5c5c5c 20px);\n",
       "    }\n",
       "    .progress-bar-interrupted, .progress-bar-interrupted::-webkit-progress-bar {\n",
       "        background: #F44336;\n",
       "    }\n",
       "</style>\n"
      ],
      "text/plain": [
       "<IPython.core.display.HTML object>"
      ]
     },
     "metadata": {},
     "output_type": "display_data"
    },
    {
     "data": {
      "text/html": [
       "<table border=\"1\" class=\"dataframe\">\n",
       "  <thead>\n",
       "    <tr style=\"text-align: left;\">\n",
       "      <th>epoch</th>\n",
       "      <th>train_loss</th>\n",
       "      <th>valid_loss</th>\n",
       "      <th>time</th>\n",
       "    </tr>\n",
       "  </thead>\n",
       "  <tbody>\n",
       "    <tr>\n",
       "      <td>0</td>\n",
       "      <td>13188.729492</td>\n",
       "      <td>12490.383789</td>\n",
       "      <td>00:00</td>\n",
       "    </tr>\n",
       "    <tr>\n",
       "      <td>1</td>\n",
       "      <td>13109.122070</td>\n",
       "      <td>12484.867188</td>\n",
       "      <td>00:00</td>\n",
       "    </tr>\n",
       "    <tr>\n",
       "      <td>2</td>\n",
       "      <td>13082.974609</td>\n",
       "      <td>12479.466797</td>\n",
       "      <td>00:00</td>\n",
       "    </tr>\n",
       "    <tr>\n",
       "      <td>3</td>\n",
       "      <td>13133.792969</td>\n",
       "      <td>12473.906250</td>\n",
       "      <td>00:00</td>\n",
       "    </tr>\n",
       "    <tr>\n",
       "      <td>4</td>\n",
       "      <td>13210.063477</td>\n",
       "      <td>12468.494141</td>\n",
       "      <td>00:00</td>\n",
       "    </tr>\n",
       "    <tr>\n",
       "      <td>5</td>\n",
       "      <td>13174.821289</td>\n",
       "      <td>12462.963867</td>\n",
       "      <td>00:00</td>\n",
       "    </tr>\n",
       "    <tr>\n",
       "      <td>6</td>\n",
       "      <td>13106.573242</td>\n",
       "      <td>12457.494141</td>\n",
       "      <td>00:00</td>\n",
       "    </tr>\n",
       "    <tr>\n",
       "      <td>7</td>\n",
       "      <td>13045.175781</td>\n",
       "      <td>12452.149414</td>\n",
       "      <td>00:00</td>\n",
       "    </tr>\n",
       "    <tr>\n",
       "      <td>8</td>\n",
       "      <td>13076.649414</td>\n",
       "      <td>12446.740234</td>\n",
       "      <td>00:00</td>\n",
       "    </tr>\n",
       "    <tr>\n",
       "      <td>9</td>\n",
       "      <td>13065.931641</td>\n",
       "      <td>12441.267578</td>\n",
       "      <td>00:00</td>\n",
       "    </tr>\n",
       "  </tbody>\n",
       "</table>"
      ],
      "text/plain": [
       "<IPython.core.display.HTML object>"
      ]
     },
     "metadata": {},
     "output_type": "display_data"
    }
   ],
   "source": [
    "learn.fit(10, lr=1e-3)"
   ]
  },
  {
   "cell_type": "code",
   "execution_count": 162,
   "id": "2b6d0202",
   "metadata": {
    "ExecuteTime": {
     "end_time": "2023-01-20T07:37:20.592018Z",
     "start_time": "2023-01-20T07:37:20.588816Z"
    }
   },
   "outputs": [
    {
     "data": {
      "text/plain": [
       "array([63.00614902, 44.14519607, 84.36475203,  9.33783172])"
      ]
     },
     "execution_count": 162,
     "metadata": {},
     "output_type": "execute_result"
    }
   ],
   "source": [
    "coef"
   ]
  },
  {
   "cell_type": "code",
   "execution_count": 161,
   "id": "c7b32036",
   "metadata": {
    "ExecuteTime": {
     "end_time": "2023-01-20T07:37:18.156037Z",
     "start_time": "2023-01-20T07:37:18.149261Z"
    }
   },
   "outputs": [
    {
     "data": {
      "text/plain": [
       "OrderedDict([('layers.0.0.weight',\n",
       "              tensor([[ 0.3929,  0.2314, -0.0646, -0.1009]], device='cuda:0')),\n",
       "             ('layers.0.0.bias', tensor([-0.0458], device='cuda:0'))])"
      ]
     },
     "execution_count": 161,
     "metadata": {},
     "output_type": "execute_result"
    }
   ],
   "source": [
    "learn.model.state_dict()"
   ]
  }
 ],
 "metadata": {
  "kernelspec": {
   "display_name": "Python 3 (ipykernel)",
   "language": "python",
   "name": "python3"
  },
  "language_info": {
   "codemirror_mode": {
    "name": "ipython",
    "version": 3
   },
   "file_extension": ".py",
   "mimetype": "text/x-python",
   "name": "python",
   "nbconvert_exporter": "python",
   "pygments_lexer": "ipython3",
   "version": "3.9.13"
  },
  "toc": {
   "base_numbering": 1,
   "nav_menu": {},
   "number_sections": true,
   "sideBar": true,
   "skip_h1_title": false,
   "title_cell": "Table of Contents",
   "title_sidebar": "Contents",
   "toc_cell": false,
   "toc_position": {},
   "toc_section_display": true,
   "toc_window_display": false
  },
  "varInspector": {
   "cols": {
    "lenName": 16,
    "lenType": 16,
    "lenVar": 40
   },
   "kernels_config": {
    "python": {
     "delete_cmd_postfix": "",
     "delete_cmd_prefix": "del ",
     "library": "var_list.py",
     "varRefreshCmd": "print(var_dic_list())"
    },
    "r": {
     "delete_cmd_postfix": ") ",
     "delete_cmd_prefix": "rm(",
     "library": "var_list.r",
     "varRefreshCmd": "cat(var_dic_list()) "
    }
   },
   "types_to_exclude": [
    "module",
    "function",
    "builtin_function_or_method",
    "instance",
    "_Feature"
   ],
   "window_display": false
  }
 },
 "nbformat": 4,
 "nbformat_minor": 5
}

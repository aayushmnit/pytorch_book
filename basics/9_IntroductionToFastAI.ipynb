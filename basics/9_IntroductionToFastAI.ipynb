{
 "cells": [
  {
   "cell_type": "markdown",
   "id": "816bcf24",
   "metadata": {},
   "source": [
    "---\n",
    "title: Introduction to fastai (draft)\n",
    "---"
   ]
  },
  {
   "cell_type": "markdown",
   "id": "a4e0dae5",
   "metadata": {
    "ExecuteTime": {
     "end_time": "2023-02-08T06:20:36.442118Z",
     "start_time": "2023-02-08T06:20:36.439960Z"
    }
   },
   "source": [
    "## What is fastai?"
   ]
  },
  {
   "cell_type": "markdown",
   "id": "9ed9914b",
   "metadata": {},
   "source": [
    "As mentioned in the previous chapter, we will now look at a extremely popular deep learning framework called [`fastai`](https://docs.fast.ai/). `fastai` is an open-source software library for machine learning, which provides high-level APIs for deep learning applications. It is built on top of PyTorch and is designed to be easy to use and flexible, allowing developers to quickly prototype and implement their ideas. `fastai` provides a wide range of pre-trained models, including state-of-the-art models for computer vision, natural language processing, and recommendation systems. Additionally, `fastai` offers a number of useful tools and utilities for data processing and model evaluation, making it a popular choice among researchers and practitioners alike.\n",
    "\n",
    "The creators of `fastai` have also created accompanying educational resources to assist in learning deep learning through the use of their framework. Both the course and book are highly recommended.\n",
    "\n",
    "- Here is the link to the free course: [Link](https://course.fast.ai/)\n",
    "- Here is the link to the book: [Link](https://github.com/fastai/fastbook)\n",
    "\n",
    "The creators also have a peer-review paper published explaining high-level functionality and layered approach to the fastai library- [Link](https://arxiv.org/abs/2002.04688)."
   ]
  },
  {
   "cell_type": "markdown",
   "id": "beca0d82",
   "metadata": {
    "ExecuteTime": {
     "end_time": "2023-02-08T06:56:21.469949Z",
     "start_time": "2023-02-08T06:56:21.466956Z"
    }
   },
   "source": [
    "<figure align = \"center\">\n",
    "    <img src=\"./img/fastai_api.png\" style=\"width:80%\">\n",
    "    <figcaption align = \"center\">\n",
    "        Fig 9.1: The layered API from fastai.\n",
    "    </figcaption>\n",
    "</figure>"
   ]
  },
  {
   "cell_type": "markdown",
   "id": "579a8c57",
   "metadata": {},
   "source": [
    "## Introduction to fastai API"
   ]
  },
  {
   "cell_type": "code",
   "execution_count": null,
   "id": "4353e0c8",
   "metadata": {},
   "outputs": [],
   "source": []
  },
  {
   "cell_type": "markdown",
   "id": "dcf65eee",
   "metadata": {},
   "source": [
    "## MNIST example using High level API"
   ]
  },
  {
   "cell_type": "markdown",
   "id": "a7e2901e",
   "metadata": {
    "ExecuteTime": {
     "end_time": "2023-04-19T05:57:35.631846Z",
     "start_time": "2023-04-19T05:57:35.629760Z"
    }
   },
   "source": [
    "## MNIST example using Mid level API"
   ]
  },
  {
   "cell_type": "markdown",
   "id": "11f53b04",
   "metadata": {},
   "source": [
    "## MNIST example using Low level API"
   ]
  },
  {
   "cell_type": "markdown",
   "id": "fc77c2da",
   "metadata": {},
   "source": [
    "## Creating a dataloader"
   ]
  },
  {
   "cell_type": "code",
   "execution_count": 13,
   "id": "89b91076",
   "metadata": {
    "ExecuteTime": {
     "end_time": "2023-02-08T07:26:53.900117Z",
     "start_time": "2023-02-08T07:26:53.897619Z"
    }
   },
   "outputs": [],
   "source": [
    "from fastai.vision.all import *"
   ]
  },
  {
   "cell_type": "code",
   "execution_count": 14,
   "id": "a0ebad75",
   "metadata": {
    "ExecuteTime": {
     "end_time": "2023-02-08T07:26:53.923839Z",
     "start_time": "2023-02-08T07:26:53.901517Z"
    }
   },
   "outputs": [],
   "source": [
    "dPath = Path(\"../data/mnist_png/\")"
   ]
  },
  {
   "cell_type": "code",
   "execution_count": 15,
   "id": "568ad9f4",
   "metadata": {
    "ExecuteTime": {
     "end_time": "2023-02-08T07:26:53.935949Z",
     "start_time": "2023-02-08T07:26:53.925044Z"
    }
   },
   "outputs": [
    {
     "data": {
      "text/plain": [
       "(#3) [Path('../data/mnist_png/models'),Path('../data/mnist_png/testing'),Path('../data/mnist_png/training')]"
      ]
     },
     "execution_count": 15,
     "metadata": {},
     "output_type": "execute_result"
    }
   ],
   "source": [
    "dPath.ls()"
   ]
  },
  {
   "cell_type": "code",
   "execution_count": 16,
   "id": "f45c1a9d",
   "metadata": {
    "ExecuteTime": {
     "end_time": "2023-02-08T07:26:54.238916Z",
     "start_time": "2023-02-08T07:26:53.937523Z"
    }
   },
   "outputs": [
    {
     "data": {
      "text/plain": [
       "(#70000) [Path('../data/mnist_png/testing/0/10.png'),Path('../data/mnist_png/testing/0/1001.png'),Path('../data/mnist_png/testing/0/1009.png'),Path('../data/mnist_png/testing/0/101.png'),Path('../data/mnist_png/testing/0/1034.png'),Path('../data/mnist_png/testing/0/1047.png'),Path('../data/mnist_png/testing/0/1061.png'),Path('../data/mnist_png/testing/0/1084.png'),Path('../data/mnist_png/testing/0/1094.png'),Path('../data/mnist_png/testing/0/1121.png')...]"
      ]
     },
     "execution_count": 16,
     "metadata": {},
     "output_type": "execute_result"
    }
   ],
   "source": [
    "get_image_files(dPath)"
   ]
  },
  {
   "cell_type": "code",
   "execution_count": 17,
   "id": "1b540493",
   "metadata": {
    "ExecuteTime": {
     "end_time": "2023-02-08T07:26:57.040488Z",
     "start_time": "2023-02-08T07:26:54.240211Z"
    }
   },
   "outputs": [],
   "source": [
    "dataset = DataBlock(\n",
    "                blocks = (ImageBlock(cls = PILImageBW), CategoryBlock),\n",
    "                get_items = get_image_files,\n",
    "                splitter = GrandparentSplitter(train_name='training', valid_name='testing'),\n",
    "                get_y = parent_label,\n",
    "                item_tfms = Resize(28),\n",
    "                batch_tfms = None\n",
    "            )\n",
    "\n",
    "dls = dataset.dataloaders(dPath, bs=128)"
   ]
  },
  {
   "cell_type": "code",
   "execution_count": 18,
   "id": "2b85980a",
   "metadata": {
    "ExecuteTime": {
     "end_time": "2023-02-08T07:26:58.459030Z",
     "start_time": "2023-02-08T07:26:57.041634Z"
    }
   },
   "outputs": [
    {
     "name": "stdout",
     "output_type": "stream",
     "text": [
      "['0', '1', '2', '3', '4', '5', '6', '7', '8', '9']\n",
      "10\n"
     ]
    },
    {
     "data": {
      "image/png": "[encoded data removed]",
      "text/plain": [
       "<Figure size 1000x600 with 24 Axes>"
      ]
     },
     "metadata": {},
     "output_type": "display_data"
    }
   ],
   "source": [
    "print(dls.vocab) ## Prints class labels\n",
    "print(dls.c) ## Prints number of classes\n",
    "dls.show_batch(max_n=24,figsize=(10,6)) ## Show sample data"
   ]
  },
  {
   "cell_type": "code",
   "execution_count": 19,
   "id": "bc02feb1",
   "metadata": {
    "ExecuteTime": {
     "end_time": "2023-02-08T07:27:00.174078Z",
     "start_time": "2023-02-08T07:26:58.460210Z"
    }
   },
   "outputs": [
    {
     "data": {
      "text/plain": [
       "(torch.Size([128, 1, 28, 28]), torch.Size([128]))"
      ]
     },
     "execution_count": 19,
     "metadata": {},
     "output_type": "execute_result"
    }
   ],
   "source": [
    "dls.one_batch()[0].shape, dls.one_batch()[1].shape"
   ]
  },
  {
   "cell_type": "code",
   "execution_count": 20,
   "id": "b892806f",
   "metadata": {
    "ExecuteTime": {
     "end_time": "2023-02-08T07:27:00.178029Z",
     "start_time": "2023-02-08T07:27:00.175427Z"
    }
   },
   "outputs": [],
   "source": [
    "class MLP(nn.Module):\n",
    "    def __init__(self, n_in, n_out):\n",
    "        super().__init__()\n",
    "        self.model = nn.Sequential(\n",
    "            nn.Linear(n_in, 256),\n",
    "            nn.ReLU(),\n",
    "            nn.Linear(256, 128),\n",
    "            nn.ReLU(),\n",
    "            nn.Linear(128, n_out)\n",
    "        )\n",
    "    def forward(self, x):\n",
    "        return self.model(x.view(-1,784))"
   ]
  },
  {
   "cell_type": "code",
   "execution_count": 21,
   "id": "173ea68e",
   "metadata": {
    "ExecuteTime": {
     "end_time": "2023-02-08T07:27:00.189511Z",
     "start_time": "2023-02-08T07:27:00.179141Z"
    }
   },
   "outputs": [],
   "source": [
    "## Defining the learner\n",
    "model = MLP(784, 10)\n",
    "mlp_learner = Learner(\n",
    "    dls = dls, \n",
    "    model=model, \n",
    "    loss_func=F.cross_entropy, \n",
    "    model_dir=dPath/\"models\",\n",
    "    metrics=accuracy)"
   ]
  },
  {
   "cell_type": "code",
   "execution_count": 22,
   "id": "4b55156b",
   "metadata": {
    "ExecuteTime": {
     "end_time": "2023-02-08T07:27:08.912253Z",
     "start_time": "2023-02-08T07:27:00.191734Z"
    }
   },
   "outputs": [
    {
     "data": {
      "text/html": [
       "\n",
       "<style>\n",
       "    /* Turns off some styling */\n",
       "    progress {\n",
       "        /* gets rid of default border in Firefox and Opera. */\n",
       "        border: none;\n",
       "        /* Needs to be in here for Safari polyfill so background images work as expected. */\n",
       "        background-size: auto;\n",
       "    }\n",
       "    progress:not([value]), progress:not([value])::-webkit-progress-bar {\n",
       "        background: repeating-linear-gradient(45deg, #7e7e7e, #7e7e7e 10px, #5c5c5c 10px, #5c5c5c 20px);\n",
       "    }\n",
       "    .progress-bar-interrupted, .progress-bar-interrupted::-webkit-progress-bar {\n",
       "        background: #F44336;\n",
       "    }\n",
       "</style>\n"
      ],
      "text/plain": [
       "<IPython.core.display.HTML object>"
      ]
     },
     "metadata": {},
     "output_type": "display_data"
    },
    {
     "data": {
      "text/html": [],
      "text/plain": [
       "<IPython.core.display.HTML object>"
      ]
     },
     "metadata": {},
     "output_type": "display_data"
    },
    {
     "data": {
      "text/plain": [
       "SuggestedLRs(valley=0.0005754399462603033)"
      ]
     },
     "execution_count": 22,
     "metadata": {},
     "output_type": "execute_result"
    },
    {
     "data": {
      "image/png": "[encoded data removed]",
      "text/plain": [
       "<Figure size 640x480 with 1 Axes>"
      ]
     },
     "metadata": {},
     "output_type": "display_data"
    }
   ],
   "source": [
    "## Finidng Ideal learning late\n",
    "mlp_learner.lr_find()"
   ]
  },
  {
   "cell_type": "code",
   "execution_count": 23,
   "id": "3d182ef5",
   "metadata": {
    "ExecuteTime": {
     "end_time": "2023-02-08T07:30:24.831416Z",
     "start_time": "2023-02-08T07:27:14.232225Z"
    }
   },
   "outputs": [
    {
     "data": {
      "text/html": [
       "\n",
       "<style>\n",
       "    /* Turns off some styling */\n",
       "    progress {\n",
       "        /* gets rid of default border in Firefox and Opera. */\n",
       "        border: none;\n",
       "        /* Needs to be in here for Safari polyfill so background images work as expected. */\n",
       "        background-size: auto;\n",
       "    }\n",
       "    progress:not([value]), progress:not([value])::-webkit-progress-bar {\n",
       "        background: repeating-linear-gradient(45deg, #7e7e7e, #7e7e7e 10px, #5c5c5c 10px, #5c5c5c 20px);\n",
       "    }\n",
       "    .progress-bar-interrupted, .progress-bar-interrupted::-webkit-progress-bar {\n",
       "        background: #F44336;\n",
       "    }\n",
       "</style>\n"
      ],
      "text/plain": [
       "<IPython.core.display.HTML object>"
      ]
     },
     "metadata": {},
     "output_type": "display_data"
    },
    {
     "data": {
      "text/html": [
       "<table border=\"1\" class=\"dataframe\">\n",
       "  <thead>\n",
       "    <tr style=\"text-align: left;\">\n",
       "      <th>epoch</th>\n",
       "      <th>train_loss</th>\n",
       "      <th>valid_loss</th>\n",
       "      <th>accuracy</th>\n",
       "      <th>time</th>\n",
       "    </tr>\n",
       "  </thead>\n",
       "  <tbody>\n",
       "    <tr>\n",
       "      <td>0</td>\n",
       "      <td>0.415048</td>\n",
       "      <td>0.640518</td>\n",
       "      <td>0.835600</td>\n",
       "      <td>00:37</td>\n",
       "    </tr>\n",
       "    <tr>\n",
       "      <td>1</td>\n",
       "      <td>0.299409</td>\n",
       "      <td>0.296634</td>\n",
       "      <td>0.935100</td>\n",
       "      <td>00:37</td>\n",
       "    </tr>\n",
       "    <tr>\n",
       "      <td>2</td>\n",
       "      <td>0.198500</td>\n",
       "      <td>0.212431</td>\n",
       "      <td>0.950100</td>\n",
       "      <td>00:38</td>\n",
       "    </tr>\n",
       "    <tr>\n",
       "      <td>3</td>\n",
       "      <td>0.119415</td>\n",
       "      <td>0.128112</td>\n",
       "      <td>0.967800</td>\n",
       "      <td>00:38</td>\n",
       "    </tr>\n",
       "    <tr>\n",
       "      <td>4</td>\n",
       "      <td>0.065490</td>\n",
       "      <td>0.106387</td>\n",
       "      <td>0.973300</td>\n",
       "      <td>00:38</td>\n",
       "    </tr>\n",
       "  </tbody>\n",
       "</table>"
      ],
      "text/plain": [
       "<IPython.core.display.HTML object>"
      ]
     },
     "metadata": {},
     "output_type": "display_data"
    }
   ],
   "source": [
    "mlp_learner.fit_one_cycle(5,5e-2)"
   ]
  }
 ],
 "metadata": {
  "kernelspec": {
   "display_name": "Python 3 (ipykernel)",
   "language": "python",
   "name": "python3"
  },
  "language_info": {
   "codemirror_mode": {
    "name": "ipython",
    "version": 3
   },
   "file_extension": ".py",
   "mimetype": "text/x-python",
   "name": "python",
   "nbconvert_exporter": "python",
   "pygments_lexer": "ipython3",
   "version": "3.9.13"
  },
  "toc": {
   "base_numbering": 1,
   "nav_menu": {},
   "number_sections": true,
   "sideBar": true,
   "skip_h1_title": false,
   "title_cell": "Table of Contents",
   "title_sidebar": "Contents",
   "toc_cell": false,
   "toc_position": {},
   "toc_section_display": true,
   "toc_window_display": true
  },
  "varInspector": {
   "cols": {
    "lenName": 16,
    "lenType": 16,
    "lenVar": 40
   },
   "kernels_config": {
    "python": {
     "delete_cmd_postfix": "",
     "delete_cmd_prefix": "del ",
     "library": "var_list.py",
     "varRefreshCmd": "print(var_dic_list())"
    },
    "r": {
     "delete_cmd_postfix": ") ",
     "delete_cmd_prefix": "rm(",
     "library": "var_list.r",
     "varRefreshCmd": "cat(var_dic_list()) "
    }
   },
   "types_to_exclude": [
    "module",
    "function",
    "builtin_function_or_method",
    "instance",
    "_Feature"
   ],
   "window_display": false
  }
 },
 "nbformat": 4,
 "nbformat_minor": 5
}

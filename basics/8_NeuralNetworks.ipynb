{
 "cells": [
  {
   "cell_type": "markdown",
   "id": "15b8fdc4",
   "metadata": {},
   "source": [
    "---\n",
    "title: Neural Networks (Draft)\n",
    "---"
   ]
  },
  {
   "cell_type": "markdown",
   "id": "9e7069c0",
   "metadata": {},
   "source": [
    "So far, we have explored basics of PyTorch and used linear regression example to showcase functionality within PyTorch. In this chapter, we will start building on that knowledge and use PyTorch to build neural networks. We will be using `MNIST png` dataset from [Kaggle](https://www.kaggle.com/datasets/jidhumohan/mnist-png). There are also CSV version of MNIST, but just to give more real experience we are using `png` format."
   ]
  },
  {
   "cell_type": "markdown",
   "id": "e89ff129",
   "metadata": {},
   "source": [
    "## Downloading Data from Kaggle "
   ]
  },
  {
   "cell_type": "markdown",
   "id": "73ce74d8",
   "metadata": {},
   "source": [
    "Here are few steps you need to perform before we download the data - \n",
    "\n",
    "- If you don’t have a Kaggle account, you can make one for free [here](https://www.kaggle.com/).\n",
    "- To download the dataset, you will need `kaggle` installed, you can run the following command in notebook or CLI.\n",
    "    ```{python}\n",
    "    !pip install kaggle >> /dev/null\n",
    "    ```\n",
    "- Have a `kaggle.json` stored in `~/.kaggle`. You can get your token by going to Your Profile -> Account -> Create New API Token.\n"
   ]
  },
  {
   "cell_type": "markdown",
   "id": "fd42dc18",
   "metadata": {},
   "source": [
    "Once you have the above three steps done, run the API command provided:"
   ]
  },
  {
   "cell_type": "code",
   "execution_count": 14,
   "id": "84a29a4c",
   "metadata": {
    "ExecuteTime": {
     "end_time": "2023-01-23T07:08:30.081823Z",
     "start_time": "2023-01-23T07:08:27.410023Z"
    }
   },
   "outputs": [
    {
     "name": "stdout",
     "output_type": "stream",
     "text": [
      "Downloading mnist-png.zip to ../data\n",
      " 87%|█████████████████████████████████     | 51.0M/58.6M [00:01<00:00, 33.4MB/s]\n",
      "100%|██████████████████████████████████████| 58.6M/58.6M [00:01<00:00, 33.9MB/s]\n"
     ]
    }
   ],
   "source": [
    "!kaggle datasets download -d jidhumohan/mnist-png -p \"../data/\""
   ]
  },
  {
   "cell_type": "markdown",
   "id": "69a2ed36",
   "metadata": {},
   "source": [
    "To inspect file system we will use [fastcore](https://fastcore.fast.ai/) `Path` function, as it extends python `Path` functionality and makes it easier to inspect directories and folder."
   ]
  },
  {
   "cell_type": "code",
   "execution_count": 2,
   "id": "da9b9882",
   "metadata": {
    "ExecuteTime": {
     "end_time": "2023-01-23T07:09:02.914814Z",
     "start_time": "2023-01-23T07:09:02.909221Z"
    }
   },
   "outputs": [
    {
     "data": {
      "text/plain": [
       "True"
      ]
     },
     "execution_count": 2,
     "metadata": {},
     "output_type": "execute_result"
    }
   ],
   "source": [
    "from fastcore.xtras import Path\n",
    "zip_path = Path(\"../data/mnist-png.zip\")\n",
    "zip_path.exists() # Check if the file exist"
   ]
  },
  {
   "cell_type": "markdown",
   "id": "3c12f5f6",
   "metadata": {},
   "source": [
    "Data is now saved to the `mnist-png.zip` file here on our local system in `../data` folder. Now we will use `zipfile` package to unzip the data. \n",
    "\n",
    ":::{.callout-warning}\n",
    "This following code will run for some time as its unzipping 60,000 PNG images.\n",
    ":::"
   ]
  },
  {
   "cell_type": "code",
   "execution_count": 11,
   "id": "48efd701",
   "metadata": {
    "ExecuteTime": {
     "end_time": "2023-01-23T07:26:53.546813Z",
     "start_time": "2023-01-23T07:20:17.810346Z"
    }
   },
   "outputs": [],
   "source": [
    "# Output directory\n",
    "dPath = Path(\"../data/\")\n",
    "\n",
    "# Unzipping data file in output directory\n",
    "import zipfile\n",
    "with zipfile.ZipFile(zip_path, \"r\") as zip_ref:\n",
    "    zip_ref.extractall(str(dPath))\n",
    "\n",
    "\n",
    "# Removing the original zip file\n",
    "zip_path.unlink()\n",
    "\n",
    "# Removing duplicate folder in the unzipped data\n",
    "import shutil\n",
    "dPath = dPath/'mnist_png'\n",
    "shutil.rmtree(dPath/'mnist_png')"
   ]
  },
  {
   "cell_type": "code",
   "execution_count": 19,
   "id": "03d90b85",
   "metadata": {
    "ExecuteTime": {
     "end_time": "2023-01-23T07:28:48.970122Z",
     "start_time": "2023-01-23T07:28:48.965720Z"
    }
   },
   "outputs": [
    {
     "data": {
      "text/plain": [
       "(#2) [Path('../data/mnist_png/testing'),Path('../data/mnist_png/training')]"
      ]
     },
     "execution_count": 19,
     "metadata": {},
     "output_type": "execute_result"
    }
   ],
   "source": [
    "dPath.ls()"
   ]
  },
  {
   "cell_type": "markdown",
   "id": "5b7072b0",
   "metadata": {},
   "source": [
    "Data contains of two folder `trainingSet` and `testSet`."
   ]
  },
  {
   "cell_type": "code",
   "execution_count": 20,
   "id": "01ef9d96",
   "metadata": {
    "ExecuteTime": {
     "end_time": "2023-01-23T07:29:23.757917Z",
     "start_time": "2023-01-23T07:29:23.753387Z"
    }
   },
   "outputs": [
    {
     "data": {
      "text/plain": [
       "(#10) [Path('../data/mnist_png/training/0'),Path('../data/mnist_png/training/1'),Path('../data/mnist_png/training/2'),Path('../data/mnist_png/training/3'),Path('../data/mnist_png/training/4'),Path('../data/mnist_png/training/5'),Path('../data/mnist_png/training/6'),Path('../data/mnist_png/training/7'),Path('../data/mnist_png/training/8'),Path('../data/mnist_png/training/9')]"
      ]
     },
     "execution_count": 20,
     "metadata": {},
     "output_type": "execute_result"
    }
   ],
   "source": [
    "(dPath/'training').ls()"
   ]
  },
  {
   "cell_type": "markdown",
   "id": "c922f568",
   "metadata": {},
   "source": [
    "Within training folder there is a folder for each digit from `0` to `9`"
   ]
  },
  {
   "cell_type": "markdown",
   "id": "574c9153",
   "metadata": {},
   "source": [
    "Within each there are images."
   ]
  },
  {
   "cell_type": "code",
   "execution_count": 21,
   "id": "92c5d5f8",
   "metadata": {
    "ExecuteTime": {
     "end_time": "2023-01-23T07:29:39.768188Z",
     "start_time": "2023-01-23T07:29:39.749227Z"
    }
   },
   "outputs": [
    {
     "data": {
      "text/plain": [
       "(#5923) [Path('../data/mnist_png/training/0/1.png'),Path('../data/mnist_png/training/0/1000.png'),Path('../data/mnist_png/training/0/10005.png'),Path('../data/mnist_png/training/0/10010.png'),Path('../data/mnist_png/training/0/10022.png'),Path('../data/mnist_png/training/0/10025.png'),Path('../data/mnist_png/training/0/10026.png'),Path('../data/mnist_png/training/0/10045.png'),Path('../data/mnist_png/training/0/10069.png'),Path('../data/mnist_png/training/0/10071.png')...]"
      ]
     },
     "execution_count": 21,
     "metadata": {},
     "output_type": "execute_result"
    }
   ],
   "source": [
    "(dPath/'training/0').ls()"
   ]
  },
  {
   "cell_type": "markdown",
   "id": "9ed5bcac",
   "metadata": {},
   "source": [
    "Let's load few image."
   ]
  },
  {
   "cell_type": "code",
   "execution_count": 22,
   "id": "037e1168",
   "metadata": {
    "ExecuteTime": {
     "end_time": "2023-01-23T07:29:56.235010Z",
     "start_time": "2023-01-23T07:29:56.145732Z"
    }
   },
   "outputs": [
    {
     "data": {
      "image/png": "[encoded data removed]",
      "text/plain": [
       "<PIL.PngImagePlugin.PngImageFile image mode=L size=28x28>"
      ]
     },
     "metadata": {},
     "output_type": "display_data"
    },
    {
     "data": {
      "image/png": "[encoded data removed]",
      "text/plain": [
       "<PIL.PngImagePlugin.PngImageFile image mode=L size=28x28>"
      ]
     },
     "metadata": {},
     "output_type": "display_data"
    },
    {
     "data": {
      "image/png": "[encoded data removed]",
      "text/plain": [
       "<PIL.PngImagePlugin.PngImageFile image mode=L size=28x28>"
      ]
     },
     "metadata": {},
     "output_type": "display_data"
    },
    {
     "data": {
      "image/png": "[encoded data removed]",
      "text/plain": [
       "<PIL.PngImagePlugin.PngImageFile image mode=L size=28x28>"
      ]
     },
     "metadata": {},
     "output_type": "display_data"
    }
   ],
   "source": [
    "from PIL import Image\n",
    "from IPython.display import display\n",
    "for img in [Image.open((dPath/'training/0').ls()[0]), \n",
    "            Image.open((dPath/'training/1').ls()[0]),\n",
    "            Image.open((dPath/'training/2').ls()[0]),\n",
    "            Image.open((dPath/'training/3').ls()[0])]: \n",
    "    display(img)"
   ]
  },
  {
   "cell_type": "markdown",
   "id": "0ebac610",
   "metadata": {},
   "source": [
    "## Creating Dataset Object using Torchvision"
   ]
  },
  {
   "cell_type": "code",
   "execution_count": 23,
   "id": "b4dd9632",
   "metadata": {
    "ExecuteTime": {
     "end_time": "2023-01-23T07:30:00.526239Z",
     "start_time": "2023-01-23T07:29:59.945290Z"
    }
   },
   "outputs": [],
   "source": [
    "import torch\n",
    "from torch import nn\n",
    "from torchvision import datasets\n",
    "from torchvision import transforms\n",
    "from tqdm.auto import tqdm"
   ]
  },
  {
   "cell_type": "code",
   "execution_count": 24,
   "id": "79bdf89d",
   "metadata": {
    "ExecuteTime": {
     "end_time": "2023-01-23T07:30:27.191277Z",
     "start_time": "2023-01-23T07:30:26.949166Z"
    },
    "scrolled": true
   },
   "outputs": [
    {
     "name": "stdout",
     "output_type": "stream",
     "text": [
      "Length of train dataset: 60000, test_dataset: 10000\n",
      "One object: Image Tensor of shape torch.Size([784]), Label: 0\n"
     ]
    }
   ],
   "source": [
    "transform = transforms.Compose([\n",
    "    transforms.Grayscale(),\n",
    "    transforms.ToTensor(), \n",
    "    transforms.Lambda(lambda x: torch.flatten(x))\n",
    "    ])\n",
    "\n",
    "## Create a dataset\n",
    "train_ds = datasets.ImageFolder(root = dPath/'training/', \n",
    "                                      transform=transform)\n",
    "\n",
    "test_ds = datasets.ImageFolder(root=dPath/'testing', transform=transform)\n",
    "\n",
    "print(f'Length of train dataset: {len(train_ds)}, test_dataset: {len(test_ds)}')\n",
    "print(f'One object: Image Tensor of shape {train_ds[0][0].shape}, Label: {train_ds[0][1]}')"
   ]
  },
  {
   "cell_type": "markdown",
   "id": "64c73e33",
   "metadata": {},
   "source": [
    "Create a dataloader using `torch.utils.data.DataLoader` function."
   ]
  },
  {
   "cell_type": "code",
   "execution_count": 26,
   "id": "2b0313e5",
   "metadata": {
    "ExecuteTime": {
     "end_time": "2023-01-23T07:30:56.707529Z",
     "start_time": "2023-01-23T07:30:56.704723Z"
    }
   },
   "outputs": [],
   "source": [
    "import os\n",
    "train_dls = torch.utils.data.DataLoader(train_ds, batch_size=128, shuffle=True, num_workers=int(os.cpu_count()/2))\n",
    "test_dls = torch.utils.data.DataLoader(test_ds, batch_size=128, shuffle=False, num_workers=int(os.cpu_count()/2))"
   ]
  },
  {
   "cell_type": "markdown",
   "id": "42545273",
   "metadata": {
    "ExecuteTime": {
     "end_time": "2023-01-23T05:44:51.847585Z",
     "start_time": "2023-01-23T05:44:51.426067Z"
    }
   },
   "source": [
    "Let's look at one batch"
   ]
  },
  {
   "cell_type": "code",
   "execution_count": 27,
   "id": "ca56c7df",
   "metadata": {
    "ExecuteTime": {
     "end_time": "2023-01-23T07:31:00.255105Z",
     "start_time": "2023-01-23T07:30:59.136668Z"
    }
   },
   "outputs": [
    {
     "data": {
      "text/plain": [
       "(torch.Size([128, 784]),\n",
       " tensor([9, 8, 0, 2, 1, 5, 4, 0, 0, 0, 1, 7, 7, 4, 4, 4, 0, 8, 1, 4, 4, 3, 9, 0,\n",
       "         4, 6, 9, 3, 7, 6, 4, 8, 6, 4, 1, 9, 7, 5, 9, 3, 6, 0, 8, 2, 7, 5, 3, 3,\n",
       "         8, 7, 1, 3, 5, 7, 6, 4, 7, 2, 6, 3, 4, 7, 7, 5, 5, 6, 2, 4, 3, 5, 3, 1,\n",
       "         2, 6, 3, 9, 6, 6, 9, 9, 3, 2, 5, 3, 5, 4, 0, 8, 0, 8, 3, 9, 4, 7, 2, 3,\n",
       "         0, 8, 0, 9, 7, 7, 1, 2, 2, 4, 6, 3, 4, 7, 0, 7, 6, 1, 2, 3, 5, 4, 6, 9,\n",
       "         1, 5, 9, 6, 7, 3, 2, 7]))"
      ]
     },
     "execution_count": 27,
     "metadata": {},
     "output_type": "execute_result"
    }
   ],
   "source": [
    "batch = next(iter(train_dls))\n",
    "batch[0].shape, batch[1]"
   ]
  },
  {
   "cell_type": "code",
   "execution_count": 28,
   "id": "64c59aad",
   "metadata": {
    "ExecuteTime": {
     "end_time": "2023-01-23T07:31:02.763556Z",
     "start_time": "2023-01-23T07:31:02.760393Z"
    }
   },
   "outputs": [],
   "source": [
    "class MLP(nn.Module):\n",
    "    def __init__(self, n_in, n_out):\n",
    "        super().__init__()\n",
    "        self.model = nn.Sequential(\n",
    "            nn.Linear(n_in, 256),\n",
    "            nn.ReLU(),\n",
    "            nn.Linear(256, 128),\n",
    "            nn.ReLU(),\n",
    "            nn.Linear(128, n_out)\n",
    "        )\n",
    "    def forward(self, x):\n",
    "        return self.model(x)"
   ]
  },
  {
   "cell_type": "code",
   "execution_count": 67,
   "id": "5fb28784",
   "metadata": {
    "ExecuteTime": {
     "end_time": "2023-01-23T07:49:27.801503Z",
     "start_time": "2023-01-23T07:49:27.796716Z"
    }
   },
   "outputs": [],
   "source": [
    "## Training loop\n",
    "def train_one_epoch(model, data_loader, optimizer, loss_func):\n",
    "    total_loss, nums = 0, 0\n",
    "    for batch in tqdm(iter(data_loader)):\n",
    "        ## Taking one mini-batch\n",
    "        xb, yb = batch[0].to(dev), batch[1].to(dev)\n",
    "        y_pred = model.forward(xb)\n",
    "        \n",
    "        ## Calculation mean square error per min-batch\n",
    "        loss = loss_func(y_pred, yb)\n",
    "        total_loss += loss.item()\n",
    "        nums += len(yb)\n",
    "        ## Computing gradients per mini-batch\n",
    "        loss.backward()\n",
    "        \n",
    "        ## Update model parameters and zero grad\n",
    "        optimizer.step()\n",
    "        optimizer.zero_grad()\n",
    "    \n",
    "    return  total_loss/nums\n",
    "        \n",
    "def validate_one_epoch(model, data_loader, loss_func):\n",
    "    loss, nums, acc = 0, 0, 0\n",
    "    with torch.no_grad():\n",
    "        for batch in tqdm(iter(data_loader)):\n",
    "            xb, yb = batch[0].to(dev), batch[1].to(dev)\n",
    "            y_pred = model.forward(xb)\n",
    "            loss += loss_func(y_pred, yb).item()\n",
    "            acc += sum(y_pred.argmax(axis=1) == yb).item()\n",
    "            nums += len(yb)\n",
    "    return loss/nums, acc/nums"
   ]
  },
  {
   "cell_type": "code",
   "execution_count": 73,
   "id": "c719e90f",
   "metadata": {
    "ExecuteTime": {
     "end_time": "2023-01-23T07:56:22.020878Z",
     "start_time": "2023-01-23T07:56:22.014767Z"
    }
   },
   "outputs": [],
   "source": [
    "model = MLP(784,10)\n",
    "optimizer = torch.optim.SGD(model.parameters(), lr=1e-3)\n",
    "loss_func = nn.CrossEntropyLoss()\n",
    "dev = torch.device(\"cuda\") if torch.cuda.is_available() else torch.device(\"cpu\")\n",
    "model = model.to(dev)"
   ]
  },
  {
   "cell_type": "markdown",
   "id": "e1cfdd5e",
   "metadata": {},
   "source": [
    "Let's test our untrained model accuracy."
   ]
  },
  {
   "cell_type": "code",
   "execution_count": 78,
   "id": "a4da6c5a",
   "metadata": {
    "ExecuteTime": {
     "end_time": "2023-01-23T07:56:58.825688Z",
     "start_time": "2023-01-23T07:56:55.374213Z"
    }
   },
   "outputs": [
    {
     "data": {
      "application/vnd.jupyter.widget-view+json": {
       "model_id": "0f1df591686b4c47a60efe7949651adb",
       "version_major": 2,
       "version_minor": 0
      },
      "text/plain": [
       "  0%|          | 0/79 [00:00<?, ?it/s]"
      ]
     },
     "metadata": {},
     "output_type": "display_data"
    },
    {
     "name": "stdout",
     "output_type": "stream",
     "text": [
      "Random model: Test Loss: 0.0182, Test Accuracy: 0.1208\n"
     ]
    }
   ],
   "source": [
    "test_loss, test_acc = validate_one_epoch(model=model, data_loader=test_dls, loss_func=loss_func)\n",
    "print(f\"Random model: Test Loss: {test_loss:.4f}, Test Accuracy: {test_acc:.4f}\")"
   ]
  },
  {
   "cell_type": "markdown",
   "id": "1c9539bb",
   "metadata": {},
   "source": [
    "Let's train the model now for 5 epochs and we will use `AdamW` optimizer instead of `SGD` from `torch.optim` module."
   ]
  },
  {
   "cell_type": "code",
   "execution_count": 72,
   "id": "25a7836a",
   "metadata": {
    "ExecuteTime": {
     "end_time": "2023-01-23T07:55:18.832009Z",
     "start_time": "2023-01-23T07:53:22.344431Z"
    }
   },
   "outputs": [
    {
     "data": {
      "application/vnd.jupyter.widget-view+json": {
       "model_id": "ca02f4795f6542899a5c226172c8899c",
       "version_major": 2,
       "version_minor": 0
      },
      "text/plain": [
       "  0%|          | 0/469 [00:00<?, ?it/s]"
      ]
     },
     "metadata": {},
     "output_type": "display_data"
    },
    {
     "data": {
      "application/vnd.jupyter.widget-view+json": {
       "model_id": "2683d2468685463fa38fddf8222c5005",
       "version_major": 2,
       "version_minor": 0
      },
      "text/plain": [
       "  0%|          | 0/79 [00:00<?, ?it/s]"
      ]
     },
     "metadata": {},
     "output_type": "display_data"
    },
    {
     "name": "stdout",
     "output_type": "stream",
     "text": [
      "Epoch 0,Train Loss: 0.0028, Test Loss: 0.0014, Test Accuracy: 0.9511\n"
     ]
    },
    {
     "data": {
      "application/vnd.jupyter.widget-view+json": {
       "model_id": "2fecdc34b86d4da697f8fb3d72313c3e",
       "version_major": 2,
       "version_minor": 0
      },
      "text/plain": [
       "  0%|          | 0/469 [00:00<?, ?it/s]"
      ]
     },
     "metadata": {},
     "output_type": "display_data"
    },
    {
     "data": {
      "application/vnd.jupyter.widget-view+json": {
       "model_id": "c07c111ed9964af497e5be4b2540f728",
       "version_major": 2,
       "version_minor": 0
      },
      "text/plain": [
       "  0%|          | 0/79 [00:00<?, ?it/s]"
      ]
     },
     "metadata": {},
     "output_type": "display_data"
    },
    {
     "name": "stdout",
     "output_type": "stream",
     "text": [
      "Epoch 1,Train Loss: 0.0011, Test Loss: 0.0010, Test Accuracy: 0.9629\n"
     ]
    },
    {
     "data": {
      "application/vnd.jupyter.widget-view+json": {
       "model_id": "50800af13fab469fb869a6220cd69b9c",
       "version_major": 2,
       "version_minor": 0
      },
      "text/plain": [
       "  0%|          | 0/469 [00:00<?, ?it/s]"
      ]
     },
     "metadata": {},
     "output_type": "display_data"
    },
    {
     "data": {
      "application/vnd.jupyter.widget-view+json": {
       "model_id": "094d9cbb53264b758b94ee7a0cefa2f6",
       "version_major": 2,
       "version_minor": 0
      },
      "text/plain": [
       "  0%|          | 0/79 [00:00<?, ?it/s]"
      ]
     },
     "metadata": {},
     "output_type": "display_data"
    },
    {
     "name": "stdout",
     "output_type": "stream",
     "text": [
      "Epoch 2,Train Loss: 0.0007, Test Loss: 0.0008, Test Accuracy: 0.9687\n"
     ]
    },
    {
     "data": {
      "application/vnd.jupyter.widget-view+json": {
       "model_id": "757a882e30b24d66a796bfee4d456a8d",
       "version_major": 2,
       "version_minor": 0
      },
      "text/plain": [
       "  0%|          | 0/469 [00:00<?, ?it/s]"
      ]
     },
     "metadata": {},
     "output_type": "display_data"
    },
    {
     "data": {
      "application/vnd.jupyter.widget-view+json": {
       "model_id": "a298aa57a385410d8a286372776784e2",
       "version_major": 2,
       "version_minor": 0
      },
      "text/plain": [
       "  0%|          | 0/79 [00:00<?, ?it/s]"
      ]
     },
     "metadata": {},
     "output_type": "display_data"
    },
    {
     "name": "stdout",
     "output_type": "stream",
     "text": [
      "Epoch 3,Train Loss: 0.0005, Test Loss: 0.0006, Test Accuracy: 0.9744\n"
     ]
    },
    {
     "data": {
      "application/vnd.jupyter.widget-view+json": {
       "model_id": "be40f89e28a14af3b308f2c35a2a41e1",
       "version_major": 2,
       "version_minor": 0
      },
      "text/plain": [
       "  0%|          | 0/469 [00:00<?, ?it/s]"
      ]
     },
     "metadata": {},
     "output_type": "display_data"
    },
    {
     "data": {
      "application/vnd.jupyter.widget-view+json": {
       "model_id": "4622dc1f900f42ffa8e8a9e5ff4449d1",
       "version_major": 2,
       "version_minor": 0
      },
      "text/plain": [
       "  0%|          | 0/79 [00:00<?, ?it/s]"
      ]
     },
     "metadata": {},
     "output_type": "display_data"
    },
    {
     "name": "stdout",
     "output_type": "stream",
     "text": [
      "Epoch 4,Train Loss: 0.0004, Test Loss: 0.0006, Test Accuracy: 0.9762\n"
     ]
    }
   ],
   "source": [
    "optimizer = torch.optim.AdamW(model.parameters(), lr=1e-3)\n",
    "for epoch in range(5):    \n",
    "    # run one training loop\n",
    "    train_loss = train_one_epoch(model=model, data_loader=train_dls, optimizer=optimizer, loss_func=loss_func)\n",
    "    test_loss, test_acc = validate_one_epoch(model=model, data_loader=test_dls, loss_func=loss_func)\n",
    "    print(f\"Epoch {epoch},Train Loss: {train_loss:.4f}, Test Loss: {test_loss:.4f}, Test Accuracy: {test_acc:.4f}\")"
   ]
  },
  {
   "cell_type": "markdown",
   "id": "977b1cd6",
   "metadata": {
    "ExecuteTime": {
     "end_time": "2023-01-23T07:39:14.627859Z",
     "start_time": "2023-01-23T07:39:14.623807Z"
    }
   },
   "source": [
    "We can see after 5 epochs we have a fairly accurate model with 97.62% accuracy as compared to random prediction of 12%."
   ]
  }
 ],
 "metadata": {
  "kernelspec": {
   "display_name": "Python 3 (ipykernel)",
   "language": "python",
   "name": "python3"
  },
  "language_info": {
   "codemirror_mode": {
    "name": "ipython",
    "version": 3
   },
   "file_extension": ".py",
   "mimetype": "text/x-python",
   "name": "python",
   "nbconvert_exporter": "python",
   "pygments_lexer": "ipython3",
   "version": "3.9.13"
  },
  "toc": {
   "base_numbering": 1,
   "nav_menu": {},
   "number_sections": true,
   "sideBar": true,
   "skip_h1_title": false,
   "title_cell": "Table of Contents",
   "title_sidebar": "Contents",
   "toc_cell": false,
   "toc_position": {},
   "toc_section_display": true,
   "toc_window_display": true
  },
  "varInspector": {
   "cols": {
    "lenName": 16,
    "lenType": 16,
    "lenVar": 40
   },
   "kernels_config": {
    "python": {
     "delete_cmd_postfix": "",
     "delete_cmd_prefix": "del ",
     "library": "var_list.py",
     "varRefreshCmd": "print(var_dic_list())"
    },
    "r": {
     "delete_cmd_postfix": ") ",
     "delete_cmd_prefix": "rm(",
     "library": "var_list.r",
     "varRefreshCmd": "cat(var_dic_list()) "
    }
   },
   "types_to_exclude": [
    "module",
    "function",
    "builtin_function_or_method",
    "instance",
    "_Feature"
   ],
   "window_display": false
  }
 },
 "nbformat": 4,
 "nbformat_minor": 5
}
